{
  "cells": [
    {
      "cell_type": "markdown",
      "metadata": {
        "id": "view-in-github",
        "colab_type": "text"
      },
      "source": [
        "<a href=\"https://colab.research.google.com/github/BrunoMarins/puc_data_science/blob/main/MVP2.ipynb\" target=\"_parent\"><img src=\"https://colab.research.google.com/assets/colab-badge.svg\" alt=\"Open In Colab\"/></a>"
      ]
    },
    {
      "cell_type": "markdown",
      "metadata": {
        "id": "cxVkZGzSrLF4"
      },
      "source": [
        "# MVP2 – Machine Learning & Analytics\n",
        "## Aluno: Bruno Marins Soares"
      ]
    },
    {
      "cell_type": "markdown",
      "metadata": {
        "id": "i_21iq_QT5F9"
      },
      "source": [
        "Tempo aproximado de execução da seção A sem aceleração de hardware = 10 min\n",
        "\n",
        "Tempo aproximado de execução da seção B sem aceleração de hardware = 15 min\n",
        "\n",
        "Tempo total aproximado de execução deste notebook sem aceleração de hardware = 25 min"
      ]
    },
    {
      "cell_type": "markdown",
      "metadata": {
        "id": "Lm1VtgNG5nFk"
      },
      "source": [
        "#A) ML clássico para problema de classificação"
      ]
    },
    {
      "cell_type": "markdown",
      "metadata": {
        "id": "079XuRY46gA7"
      },
      "source": [
        "## 1) Definição do problema\n"
      ]
    },
    {
      "cell_type": "markdown",
      "metadata": {
        "id": "ZvTaeIhgrgdf"
      },
      "source": [
        "A partir de dados de campanhas de marketing baseadas em chamadas telefônicas de uma instituição bancária portuguesa (https://archive.ics.uci.edu/dataset/222/bank+marketing), pretende-se **prever se o cliente irá ou não subscrever em uma oferta de depósito a prazo**. O *dataset* é composto por **4521 exemplos e 17 atributos**:\n",
        "\n",
        "**age** - (numeric)\n",
        "\n",
        "**job** -  type of job (categorical: 'admin.','blue-collar','entrepreneur','housemaid','management','retired','self-employed','services','student','technician','unemployed','unknown')\n",
        "\n",
        "**marital** - marital status (categorical: 'divorced','married','single','unknown'; note: 'divorced' means divorced or widowed)\n",
        "\n",
        "**education** - (categorical: 'basic.4y','basic.6y','basic.9y','high.school','illiterate','professional.course','university.degree','unknown')\n",
        "\n",
        "**default** - has credit in default? (categorical: 'no','yes','unknown')\n",
        "\n",
        "**balance** - average annual balance in euros in the client's bank account\n",
        "\n",
        "**housing** - has housing loan? (categorical: 'no','yes','unknown')\n",
        "\n",
        "**loan** -  has personal loan? (categorical: 'no','yes','unknown')\n",
        "\n",
        "**contact** -  contact communication type (categorical: 'cellular','telephone')\n",
        "\n",
        "**month** - last contact month of year (categorical: 'jan', 'feb', 'mar', ..., 'nov', 'dec')\n",
        "\n",
        "**day_of_week** -  last contact day of the week (categorical: 'mon','tue','wed','thu','fri')\n",
        "\n",
        "**duration** - last contact duration, in seconds (numeric)\n",
        "\n",
        "**campaign** - number of contacts performed during this campaign and for this client (numeric, includes last contact)\n",
        "\n",
        "**pdays** - number of days that passed by after the client was last contacted from a previous campaign (numeric; -1 means client was not previously contacted)\n",
        "\n",
        "**previous** - number of contacts performed before this campaign and for this client (numeric)\n",
        "\n",
        "**poutcome** - outcome of the previous marketing campaign (categorical: 'failure','nonexistent','success')\n",
        "\n",
        "**y** - has the client subscribed a term deposit? (binary: 'yes','no')"
      ]
    },
    {
      "cell_type": "markdown",
      "metadata": {
        "id": "swTYS047t5Uv"
      },
      "source": [
        "## 2) Preparação de dados"
      ]
    },
    {
      "cell_type": "markdown",
      "metadata": {
        "id": "7LmpKKECrARI"
      },
      "source": [
        "### 2.1) Importação e limpeza"
      ]
    },
    {
      "cell_type": "code",
      "execution_count": null,
      "metadata": {
        "id": "Lgw6Psh68KOs"
      },
      "outputs": [],
      "source": [
        "# configuração para não exibir os warnings\n",
        "import warnings\n",
        "warnings.filterwarnings(\"ignore\")\n",
        "\n",
        "# Imports necessários\n",
        "import pandas as pd\n",
        "import numpy as np\n",
        "import matplotlib.pyplot as plt\n",
        "from sklearn.preprocessing import StandardScaler, MinMaxScaler, LabelEncoder, OneHotEncoder\n",
        "from sklearn.feature_selection import SelectKBest, f_classif\n",
        "from sklearn.compose import ColumnTransformer\n",
        "from sklearn.model_selection import train_test_split, KFold, StratifiedKFold, cross_val_score, GridSearchCV\n",
        "from sklearn.metrics import accuracy_score\n",
        "from sklearn.pipeline import Pipeline\n",
        "from sklearn.linear_model import LogisticRegression\n",
        "from sklearn.tree import DecisionTreeClassifier\n",
        "from sklearn.neighbors import KNeighborsClassifier\n",
        "from sklearn.naive_bayes import GaussianNB\n",
        "from sklearn.svm import SVC\n",
        "from sklearn.ensemble import BaggingClassifier, RandomForestClassifier, ExtraTreesClassifier, VotingClassifier, AdaBoostClassifier, GradientBoostingClassifier"
      ]
    },
    {
      "cell_type": "code",
      "execution_count": null,
      "metadata": {
        "colab": {
          "base_uri": "https://localhost:8080/",
          "height": 270
        },
        "id": "IerIQ06_8HT8",
        "outputId": "80f0c871-db4a-45ca-b2c8-e81285cebe58"
      },
      "outputs": [
        {
          "output_type": "execute_result",
          "data": {
            "text/plain": [
              "   age          job  marital  education default  balance housing loan  \\\n",
              "0   30   unemployed  married    primary      no     1787      no   no   \n",
              "1   33     services  married  secondary      no     4789     yes  yes   \n",
              "2   35   management   single   tertiary      no     1350     yes   no   \n",
              "3   30   management  married   tertiary      no     1476     yes  yes   \n",
              "4   59  blue-collar  married  secondary      no        0     yes   no   \n",
              "\n",
              "    contact  day month  duration  campaign  pdays  previous poutcome   y  \n",
              "0  cellular   19   oct        79         1     -1         0  unknown  no  \n",
              "1  cellular   11   may       220         1    339         4  failure  no  \n",
              "2  cellular   16   apr       185         1    330         1  failure  no  \n",
              "3   unknown    3   jun       199         4     -1         0  unknown  no  \n",
              "4   unknown    5   may       226         1     -1         0  unknown  no  "
            ],
            "text/html": [
              "\n",
              "\n",
              "  <div id=\"df-3234234b-08e1-4264-9067-02e20179cc68\">\n",
              "    <div class=\"colab-df-container\">\n",
              "      <div>\n",
              "<style scoped>\n",
              "    .dataframe tbody tr th:only-of-type {\n",
              "        vertical-align: middle;\n",
              "    }\n",
              "\n",
              "    .dataframe tbody tr th {\n",
              "        vertical-align: top;\n",
              "    }\n",
              "\n",
              "    .dataframe thead th {\n",
              "        text-align: right;\n",
              "    }\n",
              "</style>\n",
              "<table border=\"1\" class=\"dataframe\">\n",
              "  <thead>\n",
              "    <tr style=\"text-align: right;\">\n",
              "      <th></th>\n",
              "      <th>age</th>\n",
              "      <th>job</th>\n",
              "      <th>marital</th>\n",
              "      <th>education</th>\n",
              "      <th>default</th>\n",
              "      <th>balance</th>\n",
              "      <th>housing</th>\n",
              "      <th>loan</th>\n",
              "      <th>contact</th>\n",
              "      <th>day</th>\n",
              "      <th>month</th>\n",
              "      <th>duration</th>\n",
              "      <th>campaign</th>\n",
              "      <th>pdays</th>\n",
              "      <th>previous</th>\n",
              "      <th>poutcome</th>\n",
              "      <th>y</th>\n",
              "    </tr>\n",
              "  </thead>\n",
              "  <tbody>\n",
              "    <tr>\n",
              "      <th>0</th>\n",
              "      <td>30</td>\n",
              "      <td>unemployed</td>\n",
              "      <td>married</td>\n",
              "      <td>primary</td>\n",
              "      <td>no</td>\n",
              "      <td>1787</td>\n",
              "      <td>no</td>\n",
              "      <td>no</td>\n",
              "      <td>cellular</td>\n",
              "      <td>19</td>\n",
              "      <td>oct</td>\n",
              "      <td>79</td>\n",
              "      <td>1</td>\n",
              "      <td>-1</td>\n",
              "      <td>0</td>\n",
              "      <td>unknown</td>\n",
              "      <td>no</td>\n",
              "    </tr>\n",
              "    <tr>\n",
              "      <th>1</th>\n",
              "      <td>33</td>\n",
              "      <td>services</td>\n",
              "      <td>married</td>\n",
              "      <td>secondary</td>\n",
              "      <td>no</td>\n",
              "      <td>4789</td>\n",
              "      <td>yes</td>\n",
              "      <td>yes</td>\n",
              "      <td>cellular</td>\n",
              "      <td>11</td>\n",
              "      <td>may</td>\n",
              "      <td>220</td>\n",
              "      <td>1</td>\n",
              "      <td>339</td>\n",
              "      <td>4</td>\n",
              "      <td>failure</td>\n",
              "      <td>no</td>\n",
              "    </tr>\n",
              "    <tr>\n",
              "      <th>2</th>\n",
              "      <td>35</td>\n",
              "      <td>management</td>\n",
              "      <td>single</td>\n",
              "      <td>tertiary</td>\n",
              "      <td>no</td>\n",
              "      <td>1350</td>\n",
              "      <td>yes</td>\n",
              "      <td>no</td>\n",
              "      <td>cellular</td>\n",
              "      <td>16</td>\n",
              "      <td>apr</td>\n",
              "      <td>185</td>\n",
              "      <td>1</td>\n",
              "      <td>330</td>\n",
              "      <td>1</td>\n",
              "      <td>failure</td>\n",
              "      <td>no</td>\n",
              "    </tr>\n",
              "    <tr>\n",
              "      <th>3</th>\n",
              "      <td>30</td>\n",
              "      <td>management</td>\n",
              "      <td>married</td>\n",
              "      <td>tertiary</td>\n",
              "      <td>no</td>\n",
              "      <td>1476</td>\n",
              "      <td>yes</td>\n",
              "      <td>yes</td>\n",
              "      <td>unknown</td>\n",
              "      <td>3</td>\n",
              "      <td>jun</td>\n",
              "      <td>199</td>\n",
              "      <td>4</td>\n",
              "      <td>-1</td>\n",
              "      <td>0</td>\n",
              "      <td>unknown</td>\n",
              "      <td>no</td>\n",
              "    </tr>\n",
              "    <tr>\n",
              "      <th>4</th>\n",
              "      <td>59</td>\n",
              "      <td>blue-collar</td>\n",
              "      <td>married</td>\n",
              "      <td>secondary</td>\n",
              "      <td>no</td>\n",
              "      <td>0</td>\n",
              "      <td>yes</td>\n",
              "      <td>no</td>\n",
              "      <td>unknown</td>\n",
              "      <td>5</td>\n",
              "      <td>may</td>\n",
              "      <td>226</td>\n",
              "      <td>1</td>\n",
              "      <td>-1</td>\n",
              "      <td>0</td>\n",
              "      <td>unknown</td>\n",
              "      <td>no</td>\n",
              "    </tr>\n",
              "  </tbody>\n",
              "</table>\n",
              "</div>\n",
              "      <button class=\"colab-df-convert\" onclick=\"convertToInteractive('df-3234234b-08e1-4264-9067-02e20179cc68')\"\n",
              "              title=\"Convert this dataframe to an interactive table.\"\n",
              "              style=\"display:none;\">\n",
              "\n",
              "  <svg xmlns=\"http://www.w3.org/2000/svg\" height=\"24px\"viewBox=\"0 0 24 24\"\n",
              "       width=\"24px\">\n",
              "    <path d=\"M0 0h24v24H0V0z\" fill=\"none\"/>\n",
              "    <path d=\"M18.56 5.44l.94 2.06.94-2.06 2.06-.94-2.06-.94-.94-2.06-.94 2.06-2.06.94zm-11 1L8.5 8.5l.94-2.06 2.06-.94-2.06-.94L8.5 2.5l-.94 2.06-2.06.94zm10 10l.94 2.06.94-2.06 2.06-.94-2.06-.94-.94-2.06-.94 2.06-2.06.94z\"/><path d=\"M17.41 7.96l-1.37-1.37c-.4-.4-.92-.59-1.43-.59-.52 0-1.04.2-1.43.59L10.3 9.45l-7.72 7.72c-.78.78-.78 2.05 0 2.83L4 21.41c.39.39.9.59 1.41.59.51 0 1.02-.2 1.41-.59l7.78-7.78 2.81-2.81c.8-.78.8-2.07 0-2.86zM5.41 20L4 18.59l7.72-7.72 1.47 1.35L5.41 20z\"/>\n",
              "  </svg>\n",
              "      </button>\n",
              "\n",
              "\n",
              "\n",
              "    <div id=\"df-66723959-9351-44b6-9fe3-078f650dc3dd\">\n",
              "      <button class=\"colab-df-quickchart\" onclick=\"quickchart('df-66723959-9351-44b6-9fe3-078f650dc3dd')\"\n",
              "              title=\"Suggest charts.\"\n",
              "              style=\"display:none;\">\n",
              "\n",
              "<svg xmlns=\"http://www.w3.org/2000/svg\" height=\"24px\"viewBox=\"0 0 24 24\"\n",
              "     width=\"24px\">\n",
              "    <g>\n",
              "        <path d=\"M19 3H5c-1.1 0-2 .9-2 2v14c0 1.1.9 2 2 2h14c1.1 0 2-.9 2-2V5c0-1.1-.9-2-2-2zM9 17H7v-7h2v7zm4 0h-2V7h2v10zm4 0h-2v-4h2v4z\"/>\n",
              "    </g>\n",
              "</svg>\n",
              "      </button>\n",
              "    </div>\n",
              "\n",
              "<style>\n",
              "  .colab-df-quickchart {\n",
              "    background-color: #E8F0FE;\n",
              "    border: none;\n",
              "    border-radius: 50%;\n",
              "    cursor: pointer;\n",
              "    display: none;\n",
              "    fill: #1967D2;\n",
              "    height: 32px;\n",
              "    padding: 0 0 0 0;\n",
              "    width: 32px;\n",
              "  }\n",
              "\n",
              "  .colab-df-quickchart:hover {\n",
              "    background-color: #E2EBFA;\n",
              "    box-shadow: 0px 1px 2px rgba(60, 64, 67, 0.3), 0px 1px 3px 1px rgba(60, 64, 67, 0.15);\n",
              "    fill: #174EA6;\n",
              "  }\n",
              "\n",
              "  [theme=dark] .colab-df-quickchart {\n",
              "    background-color: #3B4455;\n",
              "    fill: #D2E3FC;\n",
              "  }\n",
              "\n",
              "  [theme=dark] .colab-df-quickchart:hover {\n",
              "    background-color: #434B5C;\n",
              "    box-shadow: 0px 1px 3px 1px rgba(0, 0, 0, 0.15);\n",
              "    filter: drop-shadow(0px 1px 2px rgba(0, 0, 0, 0.3));\n",
              "    fill: #FFFFFF;\n",
              "  }\n",
              "</style>\n",
              "\n",
              "    <script>\n",
              "      async function quickchart(key) {\n",
              "        const containerElement = document.querySelector('#' + key);\n",
              "        const charts = await google.colab.kernel.invokeFunction(\n",
              "            'suggestCharts', [key], {});\n",
              "      }\n",
              "    </script>\n",
              "\n",
              "      <script>\n",
              "\n",
              "function displayQuickchartButton(domScope) {\n",
              "  let quickchartButtonEl =\n",
              "    domScope.querySelector('#df-66723959-9351-44b6-9fe3-078f650dc3dd button.colab-df-quickchart');\n",
              "  quickchartButtonEl.style.display =\n",
              "    google.colab.kernel.accessAllowed ? 'block' : 'none';\n",
              "}\n",
              "\n",
              "        displayQuickchartButton(document);\n",
              "      </script>\n",
              "      <style>\n",
              "    .colab-df-container {\n",
              "      display:flex;\n",
              "      flex-wrap:wrap;\n",
              "      gap: 12px;\n",
              "    }\n",
              "\n",
              "    .colab-df-convert {\n",
              "      background-color: #E8F0FE;\n",
              "      border: none;\n",
              "      border-radius: 50%;\n",
              "      cursor: pointer;\n",
              "      display: none;\n",
              "      fill: #1967D2;\n",
              "      height: 32px;\n",
              "      padding: 0 0 0 0;\n",
              "      width: 32px;\n",
              "    }\n",
              "\n",
              "    .colab-df-convert:hover {\n",
              "      background-color: #E2EBFA;\n",
              "      box-shadow: 0px 1px 2px rgba(60, 64, 67, 0.3), 0px 1px 3px 1px rgba(60, 64, 67, 0.15);\n",
              "      fill: #174EA6;\n",
              "    }\n",
              "\n",
              "    [theme=dark] .colab-df-convert {\n",
              "      background-color: #3B4455;\n",
              "      fill: #D2E3FC;\n",
              "    }\n",
              "\n",
              "    [theme=dark] .colab-df-convert:hover {\n",
              "      background-color: #434B5C;\n",
              "      box-shadow: 0px 1px 3px 1px rgba(0, 0, 0, 0.15);\n",
              "      filter: drop-shadow(0px 1px 2px rgba(0, 0, 0, 0.3));\n",
              "      fill: #FFFFFF;\n",
              "    }\n",
              "  </style>\n",
              "\n",
              "      <script>\n",
              "        const buttonEl =\n",
              "          document.querySelector('#df-3234234b-08e1-4264-9067-02e20179cc68 button.colab-df-convert');\n",
              "        buttonEl.style.display =\n",
              "          google.colab.kernel.accessAllowed ? 'block' : 'none';\n",
              "\n",
              "        async function convertToInteractive(key) {\n",
              "          const element = document.querySelector('#df-3234234b-08e1-4264-9067-02e20179cc68');\n",
              "          const dataTable =\n",
              "            await google.colab.kernel.invokeFunction('convertToInteractive',\n",
              "                                                     [key], {});\n",
              "          if (!dataTable) return;\n",
              "\n",
              "          const docLinkHtml = 'Like what you see? Visit the ' +\n",
              "            '<a target=\"_blank\" href=https://colab.research.google.com/notebooks/data_table.ipynb>data table notebook</a>'\n",
              "            + ' to learn more about interactive tables.';\n",
              "          element.innerHTML = '';\n",
              "          dataTable['output_type'] = 'display_data';\n",
              "          await google.colab.output.renderOutput(dataTable, element);\n",
              "          const docLink = document.createElement('div');\n",
              "          docLink.innerHTML = docLinkHtml;\n",
              "          element.appendChild(docLink);\n",
              "        }\n",
              "      </script>\n",
              "    </div>\n",
              "  </div>\n"
            ]
          },
          "metadata": {},
          "execution_count": 91
        }
      ],
      "source": [
        "# Informa a URL de importação do dataset\n",
        "url = \"https://raw.githubusercontent.com/BrunoMarins/puc_data_science/main/bank.csv\"\n",
        "\n",
        "# Lê o arquivo\n",
        "dt = pd.read_csv(url, delimiter=';')\n",
        "\n",
        "# Mostra as primeiras linhas do dataset\n",
        "dt.head()"
      ]
    },
    {
      "cell_type": "code",
      "execution_count": null,
      "metadata": {
        "colab": {
          "base_uri": "https://localhost:8080/"
        },
        "id": "K4DAV3fV_xiL",
        "outputId": "4c1d27a2-d0cd-4261-e133-368c470c3f04"
      },
      "outputs": [
        {
          "output_type": "stream",
          "name": "stdout",
          "text": [
            "<class 'pandas.core.frame.DataFrame'>\n",
            "RangeIndex: 4521 entries, 0 to 4520\n",
            "Data columns (total 17 columns):\n",
            " #   Column     Non-Null Count  Dtype \n",
            "---  ------     --------------  ----- \n",
            " 0   age        4521 non-null   int64 \n",
            " 1   job        4521 non-null   object\n",
            " 2   marital    4521 non-null   object\n",
            " 3   education  4521 non-null   object\n",
            " 4   default    4521 non-null   object\n",
            " 5   balance    4521 non-null   int64 \n",
            " 6   housing    4521 non-null   object\n",
            " 7   loan       4521 non-null   object\n",
            " 8   contact    4521 non-null   object\n",
            " 9   day        4521 non-null   int64 \n",
            " 10  month      4521 non-null   object\n",
            " 11  duration   4521 non-null   int64 \n",
            " 12  campaign   4521 non-null   int64 \n",
            " 13  pdays      4521 non-null   int64 \n",
            " 14  previous   4521 non-null   int64 \n",
            " 15  poutcome   4521 non-null   object\n",
            " 16  y          4521 non-null   object\n",
            "dtypes: int64(7), object(10)\n",
            "memory usage: 600.6+ KB\n"
          ]
        }
      ],
      "source": [
        "# verificando informações de dimensão, quantidade de nulos e os tipos de dado em cada coluna\n",
        "dt.info()"
      ]
    },
    {
      "cell_type": "markdown",
      "metadata": {
        "id": "YlJt1fsVS2ip"
      },
      "source": [
        "Não há nulos mas há atributos categóricos que exigirão tratamento para serem consumidos na fase de modelagem."
      ]
    },
    {
      "cell_type": "code",
      "execution_count": null,
      "metadata": {
        "id": "fgEoi5GEibnz"
      },
      "outputs": [],
      "source": [
        "# Transformando previamente y em numérico para análise\n",
        "dt['y'].replace({'no': 0, 'yes': 1}, inplace=True)"
      ]
    },
    {
      "cell_type": "code",
      "execution_count": null,
      "metadata": {
        "colab": {
          "base_uri": "https://localhost:8080/",
          "height": 344
        },
        "id": "jt69qejWpmqv",
        "outputId": "bdaf8fc8-7f99-470f-cc9a-2f1b4df6c8c4"
      },
      "outputs": [
        {
          "output_type": "execute_result",
          "data": {
            "text/plain": [
              "               age       balance          day     duration     campaign  \\\n",
              "count  4521.000000   4521.000000  4521.000000  4521.000000  4521.000000   \n",
              "mean     41.170095   1422.657819    15.915284   263.961292     2.793630   \n",
              "std      10.576211   3009.638142     8.247667   259.856633     3.109807   \n",
              "min      19.000000  -3313.000000     1.000000     4.000000     1.000000   \n",
              "25%      33.000000     69.000000     9.000000   104.000000     1.000000   \n",
              "50%      39.000000    444.000000    16.000000   185.000000     2.000000   \n",
              "75%      49.000000   1480.000000    21.000000   329.000000     3.000000   \n",
              "max      87.000000  71188.000000    31.000000  3025.000000    50.000000   \n",
              "\n",
              "             pdays     previous            y  \n",
              "count  4521.000000  4521.000000  4521.000000  \n",
              "mean     39.766645     0.542579     0.115240  \n",
              "std     100.121124     1.693562     0.319347  \n",
              "min      -1.000000     0.000000     0.000000  \n",
              "25%      -1.000000     0.000000     0.000000  \n",
              "50%      -1.000000     0.000000     0.000000  \n",
              "75%      -1.000000     0.000000     0.000000  \n",
              "max     871.000000    25.000000     1.000000  "
            ],
            "text/html": [
              "\n",
              "\n",
              "  <div id=\"df-1abab3d5-4290-46b2-8576-ca8140858782\">\n",
              "    <div class=\"colab-df-container\">\n",
              "      <div>\n",
              "<style scoped>\n",
              "    .dataframe tbody tr th:only-of-type {\n",
              "        vertical-align: middle;\n",
              "    }\n",
              "\n",
              "    .dataframe tbody tr th {\n",
              "        vertical-align: top;\n",
              "    }\n",
              "\n",
              "    .dataframe thead th {\n",
              "        text-align: right;\n",
              "    }\n",
              "</style>\n",
              "<table border=\"1\" class=\"dataframe\">\n",
              "  <thead>\n",
              "    <tr style=\"text-align: right;\">\n",
              "      <th></th>\n",
              "      <th>age</th>\n",
              "      <th>balance</th>\n",
              "      <th>day</th>\n",
              "      <th>duration</th>\n",
              "      <th>campaign</th>\n",
              "      <th>pdays</th>\n",
              "      <th>previous</th>\n",
              "      <th>y</th>\n",
              "    </tr>\n",
              "  </thead>\n",
              "  <tbody>\n",
              "    <tr>\n",
              "      <th>count</th>\n",
              "      <td>4521.000000</td>\n",
              "      <td>4521.000000</td>\n",
              "      <td>4521.000000</td>\n",
              "      <td>4521.000000</td>\n",
              "      <td>4521.000000</td>\n",
              "      <td>4521.000000</td>\n",
              "      <td>4521.000000</td>\n",
              "      <td>4521.000000</td>\n",
              "    </tr>\n",
              "    <tr>\n",
              "      <th>mean</th>\n",
              "      <td>41.170095</td>\n",
              "      <td>1422.657819</td>\n",
              "      <td>15.915284</td>\n",
              "      <td>263.961292</td>\n",
              "      <td>2.793630</td>\n",
              "      <td>39.766645</td>\n",
              "      <td>0.542579</td>\n",
              "      <td>0.115240</td>\n",
              "    </tr>\n",
              "    <tr>\n",
              "      <th>std</th>\n",
              "      <td>10.576211</td>\n",
              "      <td>3009.638142</td>\n",
              "      <td>8.247667</td>\n",
              "      <td>259.856633</td>\n",
              "      <td>3.109807</td>\n",
              "      <td>100.121124</td>\n",
              "      <td>1.693562</td>\n",
              "      <td>0.319347</td>\n",
              "    </tr>\n",
              "    <tr>\n",
              "      <th>min</th>\n",
              "      <td>19.000000</td>\n",
              "      <td>-3313.000000</td>\n",
              "      <td>1.000000</td>\n",
              "      <td>4.000000</td>\n",
              "      <td>1.000000</td>\n",
              "      <td>-1.000000</td>\n",
              "      <td>0.000000</td>\n",
              "      <td>0.000000</td>\n",
              "    </tr>\n",
              "    <tr>\n",
              "      <th>25%</th>\n",
              "      <td>33.000000</td>\n",
              "      <td>69.000000</td>\n",
              "      <td>9.000000</td>\n",
              "      <td>104.000000</td>\n",
              "      <td>1.000000</td>\n",
              "      <td>-1.000000</td>\n",
              "      <td>0.000000</td>\n",
              "      <td>0.000000</td>\n",
              "    </tr>\n",
              "    <tr>\n",
              "      <th>50%</th>\n",
              "      <td>39.000000</td>\n",
              "      <td>444.000000</td>\n",
              "      <td>16.000000</td>\n",
              "      <td>185.000000</td>\n",
              "      <td>2.000000</td>\n",
              "      <td>-1.000000</td>\n",
              "      <td>0.000000</td>\n",
              "      <td>0.000000</td>\n",
              "    </tr>\n",
              "    <tr>\n",
              "      <th>75%</th>\n",
              "      <td>49.000000</td>\n",
              "      <td>1480.000000</td>\n",
              "      <td>21.000000</td>\n",
              "      <td>329.000000</td>\n",
              "      <td>3.000000</td>\n",
              "      <td>-1.000000</td>\n",
              "      <td>0.000000</td>\n",
              "      <td>0.000000</td>\n",
              "    </tr>\n",
              "    <tr>\n",
              "      <th>max</th>\n",
              "      <td>87.000000</td>\n",
              "      <td>71188.000000</td>\n",
              "      <td>31.000000</td>\n",
              "      <td>3025.000000</td>\n",
              "      <td>50.000000</td>\n",
              "      <td>871.000000</td>\n",
              "      <td>25.000000</td>\n",
              "      <td>1.000000</td>\n",
              "    </tr>\n",
              "  </tbody>\n",
              "</table>\n",
              "</div>\n",
              "      <button class=\"colab-df-convert\" onclick=\"convertToInteractive('df-1abab3d5-4290-46b2-8576-ca8140858782')\"\n",
              "              title=\"Convert this dataframe to an interactive table.\"\n",
              "              style=\"display:none;\">\n",
              "\n",
              "  <svg xmlns=\"http://www.w3.org/2000/svg\" height=\"24px\"viewBox=\"0 0 24 24\"\n",
              "       width=\"24px\">\n",
              "    <path d=\"M0 0h24v24H0V0z\" fill=\"none\"/>\n",
              "    <path d=\"M18.56 5.44l.94 2.06.94-2.06 2.06-.94-2.06-.94-.94-2.06-.94 2.06-2.06.94zm-11 1L8.5 8.5l.94-2.06 2.06-.94-2.06-.94L8.5 2.5l-.94 2.06-2.06.94zm10 10l.94 2.06.94-2.06 2.06-.94-2.06-.94-.94-2.06-.94 2.06-2.06.94z\"/><path d=\"M17.41 7.96l-1.37-1.37c-.4-.4-.92-.59-1.43-.59-.52 0-1.04.2-1.43.59L10.3 9.45l-7.72 7.72c-.78.78-.78 2.05 0 2.83L4 21.41c.39.39.9.59 1.41.59.51 0 1.02-.2 1.41-.59l7.78-7.78 2.81-2.81c.8-.78.8-2.07 0-2.86zM5.41 20L4 18.59l7.72-7.72 1.47 1.35L5.41 20z\"/>\n",
              "  </svg>\n",
              "      </button>\n",
              "\n",
              "\n",
              "\n",
              "    <div id=\"df-0676e32d-232d-4fc7-9671-cd542ce6d554\">\n",
              "      <button class=\"colab-df-quickchart\" onclick=\"quickchart('df-0676e32d-232d-4fc7-9671-cd542ce6d554')\"\n",
              "              title=\"Suggest charts.\"\n",
              "              style=\"display:none;\">\n",
              "\n",
              "<svg xmlns=\"http://www.w3.org/2000/svg\" height=\"24px\"viewBox=\"0 0 24 24\"\n",
              "     width=\"24px\">\n",
              "    <g>\n",
              "        <path d=\"M19 3H5c-1.1 0-2 .9-2 2v14c0 1.1.9 2 2 2h14c1.1 0 2-.9 2-2V5c0-1.1-.9-2-2-2zM9 17H7v-7h2v7zm4 0h-2V7h2v10zm4 0h-2v-4h2v4z\"/>\n",
              "    </g>\n",
              "</svg>\n",
              "      </button>\n",
              "    </div>\n",
              "\n",
              "<style>\n",
              "  .colab-df-quickchart {\n",
              "    background-color: #E8F0FE;\n",
              "    border: none;\n",
              "    border-radius: 50%;\n",
              "    cursor: pointer;\n",
              "    display: none;\n",
              "    fill: #1967D2;\n",
              "    height: 32px;\n",
              "    padding: 0 0 0 0;\n",
              "    width: 32px;\n",
              "  }\n",
              "\n",
              "  .colab-df-quickchart:hover {\n",
              "    background-color: #E2EBFA;\n",
              "    box-shadow: 0px 1px 2px rgba(60, 64, 67, 0.3), 0px 1px 3px 1px rgba(60, 64, 67, 0.15);\n",
              "    fill: #174EA6;\n",
              "  }\n",
              "\n",
              "  [theme=dark] .colab-df-quickchart {\n",
              "    background-color: #3B4455;\n",
              "    fill: #D2E3FC;\n",
              "  }\n",
              "\n",
              "  [theme=dark] .colab-df-quickchart:hover {\n",
              "    background-color: #434B5C;\n",
              "    box-shadow: 0px 1px 3px 1px rgba(0, 0, 0, 0.15);\n",
              "    filter: drop-shadow(0px 1px 2px rgba(0, 0, 0, 0.3));\n",
              "    fill: #FFFFFF;\n",
              "  }\n",
              "</style>\n",
              "\n",
              "    <script>\n",
              "      async function quickchart(key) {\n",
              "        const containerElement = document.querySelector('#' + key);\n",
              "        const charts = await google.colab.kernel.invokeFunction(\n",
              "            'suggestCharts', [key], {});\n",
              "      }\n",
              "    </script>\n",
              "\n",
              "      <script>\n",
              "\n",
              "function displayQuickchartButton(domScope) {\n",
              "  let quickchartButtonEl =\n",
              "    domScope.querySelector('#df-0676e32d-232d-4fc7-9671-cd542ce6d554 button.colab-df-quickchart');\n",
              "  quickchartButtonEl.style.display =\n",
              "    google.colab.kernel.accessAllowed ? 'block' : 'none';\n",
              "}\n",
              "\n",
              "        displayQuickchartButton(document);\n",
              "      </script>\n",
              "      <style>\n",
              "    .colab-df-container {\n",
              "      display:flex;\n",
              "      flex-wrap:wrap;\n",
              "      gap: 12px;\n",
              "    }\n",
              "\n",
              "    .colab-df-convert {\n",
              "      background-color: #E8F0FE;\n",
              "      border: none;\n",
              "      border-radius: 50%;\n",
              "      cursor: pointer;\n",
              "      display: none;\n",
              "      fill: #1967D2;\n",
              "      height: 32px;\n",
              "      padding: 0 0 0 0;\n",
              "      width: 32px;\n",
              "    }\n",
              "\n",
              "    .colab-df-convert:hover {\n",
              "      background-color: #E2EBFA;\n",
              "      box-shadow: 0px 1px 2px rgba(60, 64, 67, 0.3), 0px 1px 3px 1px rgba(60, 64, 67, 0.15);\n",
              "      fill: #174EA6;\n",
              "    }\n",
              "\n",
              "    [theme=dark] .colab-df-convert {\n",
              "      background-color: #3B4455;\n",
              "      fill: #D2E3FC;\n",
              "    }\n",
              "\n",
              "    [theme=dark] .colab-df-convert:hover {\n",
              "      background-color: #434B5C;\n",
              "      box-shadow: 0px 1px 3px 1px rgba(0, 0, 0, 0.15);\n",
              "      filter: drop-shadow(0px 1px 2px rgba(0, 0, 0, 0.3));\n",
              "      fill: #FFFFFF;\n",
              "    }\n",
              "  </style>\n",
              "\n",
              "      <script>\n",
              "        const buttonEl =\n",
              "          document.querySelector('#df-1abab3d5-4290-46b2-8576-ca8140858782 button.colab-df-convert');\n",
              "        buttonEl.style.display =\n",
              "          google.colab.kernel.accessAllowed ? 'block' : 'none';\n",
              "\n",
              "        async function convertToInteractive(key) {\n",
              "          const element = document.querySelector('#df-1abab3d5-4290-46b2-8576-ca8140858782');\n",
              "          const dataTable =\n",
              "            await google.colab.kernel.invokeFunction('convertToInteractive',\n",
              "                                                     [key], {});\n",
              "          if (!dataTable) return;\n",
              "\n",
              "          const docLinkHtml = 'Like what you see? Visit the ' +\n",
              "            '<a target=\"_blank\" href=https://colab.research.google.com/notebooks/data_table.ipynb>data table notebook</a>'\n",
              "            + ' to learn more about interactive tables.';\n",
              "          element.innerHTML = '';\n",
              "          dataTable['output_type'] = 'display_data';\n",
              "          await google.colab.output.renderOutput(dataTable, element);\n",
              "          const docLink = document.createElement('div');\n",
              "          docLink.innerHTML = docLinkHtml;\n",
              "          element.appendChild(docLink);\n",
              "        }\n",
              "      </script>\n",
              "    </div>\n",
              "  </div>\n"
            ]
          },
          "metadata": {},
          "execution_count": 94
        }
      ],
      "source": [
        "# verificando o sumário estatístico dos atributos numéricos\n",
        "dt.describe()"
      ]
    },
    {
      "cell_type": "markdown",
      "metadata": {
        "id": "XsyZWXymVllw"
      },
      "source": [
        "Os atributos numericos possivelmente se beneficiarão de normalização/padronização. Os atributos \"campaign\", \"pdays\" e \"previous\" possuem distribuição bastante assimétrica e há um desbalanceamento acentuado de classes (diferença de frequencia dos valores de y) o que nos compele a usar uma validação cruzada estratificada."
      ]
    },
    {
      "cell_type": "markdown",
      "metadata": {
        "id": "mOEHMAqlbYIB"
      },
      "source": [
        "### 2.2) Separação em treino e teste"
      ]
    },
    {
      "cell_type": "code",
      "execution_count": null,
      "metadata": {
        "id": "NRsvBR91bs_I"
      },
      "outputs": [],
      "source": [
        "# Separação dos inputs e outputs\n",
        "X = dt.drop('y', axis=1)\n",
        "y = dt['y']\n",
        "\n",
        "seed = 7 # semente aleatória\n",
        "test_size = 0.20 # tamanho do conjunto de teste\n",
        "\n",
        "# Separação em conjuntos de treino e teste\n",
        "X_train_raw, X_test_raw, y_train, y_test = train_test_split(X, y,\n",
        "    test_size=test_size, shuffle=True, random_state=seed, stratify=y) # holdout com estratificação\n",
        "\n",
        "# Parâmetros e partições da validação cruzada\n",
        "scoring = 'accuracy'\n",
        "num_particoes = 10\n",
        "kfold = StratifiedKFold(n_splits=num_particoes, shuffle=True, random_state=seed) # validação cruzada com estratificação"
      ]
    },
    {
      "cell_type": "markdown",
      "metadata": {
        "id": "8VE9Tw239lvF"
      },
      "source": [
        "### 2.3) Tratamento e seleção de atributos"
      ]
    },
    {
      "cell_type": "code",
      "execution_count": null,
      "metadata": {
        "id": "55TrR_Ny9u9z"
      },
      "outputs": [],
      "source": [
        "# Transformando os atributos categóricos em one hot encoding\n",
        "\n",
        "# Salvando listas de atributos numéricos e categóricos\n",
        "numeric_cols = list(X.select_dtypes(include=['int']).columns)\n",
        "categorical_cols = list(X.select_dtypes(include=['object']).columns)\n",
        "\n",
        "# Criando o objeto encoder\n",
        "encoder = OneHotEncoder(drop='first', sparse=False, handle_unknown='ignore')\n",
        "\n",
        "# Ajustando o encoder e trasformando o conjunto de treino\n",
        "X_train_cat_encod = encoder.fit_transform(X_train_raw[categorical_cols])\n",
        "new_cat_columns = encoder.get_feature_names_out()\n",
        "X_train_cat_encod = pd.DataFrame(X_train_cat_encod, columns=new_cat_columns )\n",
        "X_train_num = X_train_raw[numeric_cols].reset_index()\n",
        "X_train = pd.concat([X_train_num, X_train_cat_encod], axis=1, join='outer')"
      ]
    },
    {
      "cell_type": "code",
      "execution_count": null,
      "metadata": {
        "id": "eGvA2_Hb-XAg"
      },
      "outputs": [],
      "source": [
        "# Transformando o conjunto de teste\n",
        "X_test_cat_encod  = encoder.transform(X_test_raw[categorical_cols])\n",
        "X_test_cat_encod = pd.DataFrame(X_test_cat_encod, columns=new_cat_columns )\n",
        "X_test_num = X_test_raw[numeric_cols].reset_index()\n",
        "X_test = pd.concat([X_test_num, X_test_cat_encod], axis=1, join='outer')"
      ]
    },
    {
      "cell_type": "code",
      "execution_count": null,
      "metadata": {
        "colab": {
          "base_uri": "https://localhost:8080/"
        },
        "id": "fB8whneM6tyn",
        "outputId": "c2581cf9-45ce-4cde-f640-a4f0bc767de8"
      },
      "outputs": [
        {
          "output_type": "stream",
          "name": "stdout",
          "text": [
            "Atributos selecionados: Index(['duration', 'pdays', 'previous', 'housing_yes', 'contact_unknown',\n",
            "       'month_mar', 'month_may', 'month_oct', 'poutcome_success',\n",
            "       'poutcome_unknown'],\n",
            "      dtype='object')\n"
          ]
        }
      ],
      "source": [
        "# Selecionando atributos\n",
        "\n",
        "# Criando o objeto SelectKBest\n",
        "selector = SelectKBest(score_func=f_classif)\n",
        "\n",
        "# Ajustando o selector e trasformando o conjunto de treino\n",
        "X_train_sel = selector.fit_transform(X_train, y_train)\n",
        "\n",
        "# Transformando o conjunto de teste\n",
        "X_test_sel = selector.transform(X_test)\n",
        "\n",
        "# Obtendo os índices dos atributos selecionados\n",
        "selected_features = selector.get_support(indices=True)\n",
        "\n",
        "# Imprimindo os índices dos recursos selecionados\n",
        "print(\"Atributos selecionados:\", X_train.columns[selected_features])"
      ]
    },
    {
      "cell_type": "markdown",
      "metadata": {
        "id": "peOGb4qMqlQO"
      },
      "source": [
        "## 3) Modelagem e treinamento"
      ]
    },
    {
      "cell_type": "markdown",
      "metadata": {
        "id": "zSVIlFPUpITI"
      },
      "source": [
        "###3.1) Construção e avaliação dos modelos sem seleção de atributos"
      ]
    },
    {
      "cell_type": "code",
      "execution_count": null,
      "metadata": {
        "colab": {
          "base_uri": "https://localhost:8080/",
          "height": 869
        },
        "id": "hmQbiYQdBRDW",
        "outputId": "f2842016-9b94-4690-d434-552842e37b94"
      },
      "outputs": [
        {
          "output_type": "stream",
          "name": "stdout",
          "text": [
            "LR-orig: 0.892 (0.013)\n",
            "KNN-orig: 0.879 (0.007)\n",
            "CART-orig: 0.860 (0.014)\n",
            "NB-orig: 0.847 (0.015)\n",
            "SVM-orig: 0.885 (0.001)\n",
            "Bag-orig: 0.892 (0.012)\n",
            "RF-orig: 0.893 (0.010)\n",
            "ET-orig: 0.890 (0.010)\n",
            "Ada-orig: 0.891 (0.012)\n",
            "GB-orig: 0.897 (0.014)\n",
            "Vot-orig: 0.886 (0.011)\n",
            "LR-padr: 0.903 (0.011)\n",
            "KNN-padr: 0.886 (0.011)\n",
            "CART-padr: 0.863 (0.016)\n",
            "NB-padr: 0.845 (0.015)\n",
            "SVM-padr: 0.887 (0.008)\n",
            "Bag-padr: 0.896 (0.013)\n",
            "RF-padr: 0.893 (0.010)\n",
            "ET-padr: 0.889 (0.011)\n",
            "Ada-padr: 0.891 (0.012)\n",
            "GB-padr: 0.897 (0.014)\n",
            "Vot-padr: 0.896 (0.011)\n",
            "LR-norm: 0.899 (0.010)\n",
            "KNN-norm: 0.881 (0.006)\n",
            "CART-norm: 0.863 (0.014)\n",
            "NB-norm: 0.845 (0.015)\n",
            "SVM-norm: 0.892 (0.007)\n",
            "Bag-norm: 0.895 (0.016)\n",
            "RF-norm: 0.892 (0.008)\n",
            "ET-norm: 0.890 (0.011)\n",
            "Ada-norm: 0.891 (0.012)\n",
            "GB-norm: 0.897 (0.014)\n",
            "Vot-norm: 0.895 (0.009)\n"
          ]
        },
        {
          "output_type": "display_data",
          "data": {
            "text/plain": [
              "<Figure size 2500x600 with 1 Axes>"
            ],
            "image/png": "[encoded data removed]"
          },
          "metadata": {}
        }
      ],
      "source": [
        "np.random.seed(7) # definindo uma semente global para este bloco\n",
        "\n",
        "# Listas para armazenar os pipelines e os resultados para todas as visões do dataset\n",
        "pipelines = []\n",
        "results = []\n",
        "names = []\n",
        "\n",
        "\n",
        "# Criando os elementos do pipeline\n",
        "\n",
        "# Definindo os parâmetros do classificador base para o BaggingClassifier\n",
        "base = DecisionTreeClassifier()\n",
        "num_trees = 100\n",
        "max_features = 3\n",
        "\n",
        "# Criando os modelos para o VotingClassifier\n",
        "bases = []\n",
        "model1 = LogisticRegression(max_iter=200)\n",
        "bases.append(('logistic', model1))\n",
        "model2 = DecisionTreeClassifier()\n",
        "bases.append(('cart', model2))\n",
        "model3 = SVC()\n",
        "bases.append(('svm', model3))\n",
        "\n",
        "# Algoritmos que serão utilizados\n",
        "reg_log = ('LR', LogisticRegression(max_iter=200))\n",
        "knn = ('KNN', KNeighborsClassifier())\n",
        "cart = ('CART', DecisionTreeClassifier())\n",
        "naive_bayes = ('NB', GaussianNB())\n",
        "svm = ('SVM', SVC())\n",
        "bagging = ('Bag', BaggingClassifier(base_estimator=base, n_estimators=num_trees))\n",
        "random_forest = ('RF', RandomForestClassifier(n_estimators=num_trees, max_features=max_features))\n",
        "extra_trees = ('ET', ExtraTreesClassifier(n_estimators=num_trees, max_features=max_features))\n",
        "adaboost = ('Ada', AdaBoostClassifier(n_estimators=num_trees))\n",
        "gradient_boosting = ('GB', GradientBoostingClassifier(n_estimators=num_trees))\n",
        "voting = ('Voting', VotingClassifier(bases))\n",
        "\n",
        "# Transformações que serão utilizadas\n",
        "standard_scaler = ('StandardScaler', StandardScaler())\n",
        "min_max_scaler = ('MinMaxScaler', MinMaxScaler())\n",
        "\n",
        "\n",
        "# Montando os pipelines\n",
        "\n",
        "# Dataset original\n",
        "pipelines.append(('LR-orig', Pipeline([reg_log])))\n",
        "pipelines.append(('KNN-orig', Pipeline([knn])))\n",
        "pipelines.append(('CART-orig', Pipeline([cart])))\n",
        "pipelines.append(('NB-orig', Pipeline([naive_bayes])))\n",
        "pipelines.append(('SVM-orig', Pipeline([svm])))\n",
        "pipelines.append(('Bag-orig', Pipeline([bagging])))\n",
        "pipelines.append(('RF-orig', Pipeline([random_forest])))\n",
        "pipelines.append(('ET-orig', Pipeline([extra_trees])))\n",
        "pipelines.append(('Ada-orig', Pipeline([adaboost])))\n",
        "pipelines.append(('GB-orig', Pipeline([gradient_boosting])))\n",
        "pipelines.append(('Vot-orig', Pipeline([voting])))\n",
        "\n",
        "# Dataset Padronizado\n",
        "pipelines.append(('LR-padr', Pipeline([standard_scaler, reg_log])))\n",
        "pipelines.append(('KNN-padr', Pipeline([standard_scaler, knn])))\n",
        "pipelines.append(('CART-padr', Pipeline([standard_scaler, cart])))\n",
        "pipelines.append(('NB-padr', Pipeline([standard_scaler, naive_bayes])))\n",
        "pipelines.append(('SVM-padr', Pipeline([standard_scaler, svm])))\n",
        "pipelines.append(('Bag-padr', Pipeline([standard_scaler, bagging])))\n",
        "pipelines.append(('RF-padr', Pipeline([standard_scaler, random_forest])))\n",
        "pipelines.append(('ET-padr', Pipeline([standard_scaler, extra_trees])))\n",
        "pipelines.append(('Ada-padr', Pipeline([standard_scaler, adaboost])))\n",
        "pipelines.append(('GB-padr', Pipeline([standard_scaler, gradient_boosting])))\n",
        "pipelines.append(('Vot-padr', Pipeline([standard_scaler, voting])))\n",
        "\n",
        "# Dataset Normalizado\n",
        "pipelines.append(('LR-norm', Pipeline([min_max_scaler, reg_log])))\n",
        "pipelines.append(('KNN-norm', Pipeline([min_max_scaler, knn])))\n",
        "pipelines.append(('CART-norm', Pipeline([min_max_scaler, cart])))\n",
        "pipelines.append(('NB-norm', Pipeline([min_max_scaler, naive_bayes])))\n",
        "pipelines.append(('SVM-norm', Pipeline([min_max_scaler, svm])))\n",
        "pipelines.append(('Bag-norm', Pipeline([min_max_scaler, bagging])))\n",
        "pipelines.append(('RF-norm', Pipeline([min_max_scaler, random_forest])))\n",
        "pipelines.append(('ET-norm', Pipeline([min_max_scaler, extra_trees])))\n",
        "pipelines.append(('Ada-norm', Pipeline([min_max_scaler, adaboost])))\n",
        "pipelines.append(('GB-norm', Pipeline([min_max_scaler, gradient_boosting])))\n",
        "pipelines.append(('Vot-norm', Pipeline([min_max_scaler, voting])))\n",
        "\n",
        "# Executando os pipelines\n",
        "for name, model in pipelines:\n",
        "    cv_results = cross_val_score(model, X_train, y_train, cv=kfold, scoring=scoring)\n",
        "    results.append(cv_results)\n",
        "    names.append(name)\n",
        "    msg = \"%s: %.3f (%.3f)\" % (name, cv_results.mean(), cv_results.std()) # formatando para 3 casas decimais\n",
        "    print(msg)\n",
        "\n",
        "# Boxplot de comparação dos modelos\n",
        "fig = plt.figure(figsize=(25,6))\n",
        "fig.suptitle('Comparação dos Modelos - Dataset original, padronizado e normalizado')\n",
        "ax = fig.add_subplot(111)\n",
        "plt.boxplot(results)\n",
        "ax.set_xticklabels(names, rotation=90)\n",
        "plt.show()"
      ]
    },
    {
      "cell_type": "markdown",
      "metadata": {
        "id": "xB6yy-7gIwE3"
      },
      "source": [
        "###3.2) Avaliação dos modelos com atributos selecionados"
      ]
    },
    {
      "cell_type": "code",
      "execution_count": null,
      "metadata": {
        "colab": {
          "base_uri": "https://localhost:8080/",
          "height": 869
        },
        "id": "ol9SQaS8I5FS",
        "outputId": "55bfc103-4fd8-462a-8bb2-0390451427aa"
      },
      "outputs": [
        {
          "output_type": "stream",
          "name": "stdout",
          "text": [
            "LR-orig: 0.903 (0.012)\n",
            "KNN-orig: 0.887 (0.014)\n",
            "CART-orig: 0.877 (0.014)\n",
            "NB-orig: 0.884 (0.017)\n",
            "SVM-orig: 0.890 (0.010)\n",
            "Bag-orig: 0.888 (0.010)\n",
            "RF-orig: 0.889 (0.012)\n",
            "ET-orig: 0.881 (0.016)\n",
            "Ada-orig: 0.901 (0.012)\n",
            "GB-orig: 0.901 (0.013)\n",
            "Vot-orig: 0.902 (0.010)\n",
            "LR-padr: 0.902 (0.011)\n",
            "KNN-padr: 0.893 (0.017)\n",
            "CART-padr: 0.879 (0.015)\n",
            "NB-padr: 0.884 (0.017)\n",
            "SVM-padr: 0.893 (0.013)\n",
            "Bag-padr: 0.891 (0.012)\n",
            "RF-padr: 0.886 (0.014)\n",
            "ET-padr: 0.880 (0.015)\n",
            "Ada-padr: 0.901 (0.011)\n",
            "GB-padr: 0.901 (0.013)\n",
            "Vot-padr: 0.900 (0.013)\n",
            "LR-norm: 0.898 (0.010)\n",
            "KNN-norm: 0.892 (0.015)\n",
            "CART-norm: 0.878 (0.014)\n",
            "NB-norm: 0.884 (0.017)\n",
            "SVM-norm: 0.894 (0.007)\n",
            "Bag-norm: 0.891 (0.012)\n",
            "RF-norm: 0.887 (0.013)\n",
            "ET-norm: 0.881 (0.016)\n",
            "Ada-norm: 0.901 (0.012)\n",
            "GB-norm: 0.901 (0.013)\n",
            "Vot-norm: 0.895 (0.010)\n"
          ]
        },
        {
          "output_type": "display_data",
          "data": {
            "text/plain": [
              "<Figure size 2500x600 with 1 Axes>"
            ],
            "image/png": "[encoded data removed]"
          },
          "metadata": {}
        }
      ],
      "source": [
        "np.random.seed(7) # definindo uma semente global para este bloco\n",
        "\n",
        "# Reinicializando listas para armazenar os resultados para o mesmo pipeline porém com o dataset de atributos selecionados\n",
        "results = []\n",
        "names = []\n",
        "\n",
        "# Reexecutando os pipelines com o datase de atributos selecionados\n",
        "for name, model in pipelines:\n",
        "    cv_results = cross_val_score(model, X_train_sel, y_train, cv=kfold, scoring=scoring)\n",
        "    results.append(cv_results)\n",
        "    names.append(name)\n",
        "    msg = \"%s: %.3f (%.3f)\" % (name, cv_results.mean(), cv_results.std())\n",
        "    print(msg)\n",
        "\n",
        "# Boxplot de comparação dos modelos\n",
        "fig = plt.figure(figsize=(25,6))\n",
        "fig.suptitle('Comparação dos Modelos - Dataset com atributos selecionados original, padronizado e normalizado')\n",
        "ax = fig.add_subplot(111)\n",
        "plt.boxplot(results)\n",
        "ax.set_xticklabels(names, rotation=90)\n",
        "plt.show()"
      ]
    },
    {
      "cell_type": "markdown",
      "metadata": {
        "id": "3s63-8d7o7-H"
      },
      "source": [
        "### 3.3) Otimização de hiperparâmetros"
      ]
    },
    {
      "cell_type": "markdown",
      "metadata": {
        "id": "0vpm--Efd1Md"
      },
      "source": [
        "A seguir tentaremos melhorar ainda mais os resultados dos métodos LR, Ada e GB usando os dados originais comparados aos dados padronizados e normalizados e variando alguns hiperparâmetros."
      ]
    },
    {
      "cell_type": "code",
      "execution_count": null,
      "metadata": {
        "colab": {
          "base_uri": "https://localhost:8080/"
        },
        "id": "jBSDgpXNt1Fp",
        "outputId": "ec7dc6e2-c769-41f2-fd1e-fba4f604bbb0"
      },
      "outputs": [
        {
          "output_type": "stream",
          "name": "stdout",
          "text": [
            "Sem tratamento de missings: LR-orig - Melhor: 0.903205 usando {'LR__C': 1, 'LR__penalty': 'l2', 'LR__solver': 'liblinear'}\n",
            "Sem tratamento de missings: LR-padr-norm - Melhor: 0.902378 usando {'LR__C': 100, 'LR__penalty': 'l1', 'LR__solver': 'liblinear'}\n"
          ]
        }
      ],
      "source": [
        "# Tuning do LR\n",
        "\n",
        "np.random.seed(7) # definindo uma semente global para este bloco\n",
        "\n",
        "pipelines = []\n",
        "\n",
        "# Definindo os componentes do pipeline\n",
        "reg_log = ('LR', LogisticRegression(max_iter=200))\n",
        "standard_scaler = ('StandardScaler', StandardScaler())\n",
        "min_max_scaler = ('MinMaxScaler', MinMaxScaler())\n",
        "\n",
        "pipelines.append(('LR-orig', Pipeline(steps=[reg_log])))\n",
        "pipelines.append(('LR-padr-norm', Pipeline(steps=[standard_scaler, min_max_scaler, reg_log])))\n",
        "\n",
        "\n",
        "param_grid = {\n",
        "    'LR__C': [0.01, 0.1, 1, 10, 100],\n",
        "    'LR__penalty': [\"l1\", \"l2\", \"none\"],\n",
        "    'LR__solver': [\"liblinear\", \"lbfgs\", \"sag\", \"newton-cg\"]\n",
        "}\n",
        "\n",
        "# Prepara e executa o GridSearchCV\n",
        "for name, model in pipelines:\n",
        "    grid = GridSearchCV(estimator=model, param_grid=param_grid, scoring=scoring, cv=kfold)\n",
        "    grid.fit(X_train_sel, y_train)\n",
        "    # imprime a melhor configuração\n",
        "    print(\"Sem tratamento de missings: %s - Melhor: %f usando %s\" % (name, grid.best_score_, grid.best_params_))"
      ]
    },
    {
      "cell_type": "code",
      "execution_count": null,
      "metadata": {
        "colab": {
          "base_uri": "https://localhost:8080/"
        },
        "id": "wEDIjn12ZQJG",
        "outputId": "49cdf777-5fad-4719-d9e2-1e7518da602e"
      },
      "outputs": [
        {
          "output_type": "stream",
          "name": "stdout",
          "text": [
            "Sem tratamento de missings: Ada-orig - Melhor: 0.904586 usando {'Ada__learning_rate': 0.1, 'Ada__n_estimators': 300}\n",
            "Sem tratamento de missings: Ada-padr-norm - Melhor: 0.904586 usando {'Ada__learning_rate': 0.1, 'Ada__n_estimators': 300}\n"
          ]
        }
      ],
      "source": [
        "# Tuning do ADA\n",
        "\n",
        "np.random.seed(7) # definindo uma semente global para este bloco\n",
        "\n",
        "pipelines = []\n",
        "\n",
        "# Definindo os componentes do pipeline\n",
        "ada_boost = ('Ada', AdaBoostClassifier())\n",
        "standard_scaler = ('StandardScaler', StandardScaler())\n",
        "min_max_scaler = ('MinMaxScaler', MinMaxScaler())\n",
        "\n",
        "pipelines.append(('Ada-orig', Pipeline(steps=[ada_boost])))\n",
        "pipelines.append(('Ada-padr-norm', Pipeline(steps=[standard_scaler, min_max_scaler, ada_boost])))\n",
        "\n",
        "param_grid = {\n",
        "    'Ada__n_estimators': [100, 200, 300],\n",
        "    'Ada__learning_rate': [0.02, 0.1, 0.5]\n",
        "}\n",
        "\n",
        "# Prepara e executa o GridSearchCV\n",
        "for name, model in pipelines:\n",
        "    grid = GridSearchCV(estimator=model, param_grid=param_grid, scoring=scoring, cv=kfold)\n",
        "    grid.fit(X_train_sel, y_train)\n",
        "    # imprime a melhor configuração\n",
        "    print(\"Sem tratamento de missings: %s - Melhor: %f usando %s\" % (name, grid.best_score_, grid.best_params_))"
      ]
    },
    {
      "cell_type": "code",
      "execution_count": null,
      "metadata": {
        "colab": {
          "base_uri": "https://localhost:8080/"
        },
        "id": "tC_x139yaGAF",
        "outputId": "ad98b26d-9882-48cf-e1eb-d62ecbdb6180"
      },
      "outputs": [
        {
          "output_type": "stream",
          "name": "stdout",
          "text": [
            "Sem tratamento de missings: GB-orig - Melhor: 0.905145 usando {'GB__max_depth': 5, 'GB__n_estimators': 25}\n",
            "Sem tratamento de missings: GB-padr-norm - Melhor: 0.903761 usando {'GB__max_depth': 5, 'GB__n_estimators': 25}\n"
          ]
        }
      ],
      "source": [
        "# Tuning do GB\n",
        "\n",
        "np.random.seed(7) # definindo uma semente global para este bloco\n",
        "\n",
        "pipelines = []\n",
        "\n",
        "# Definindo os componentes do pipeline\n",
        "grad_boost = ('GB', GradientBoostingClassifier())\n",
        "standard_scaler = ('StandardScaler', StandardScaler())\n",
        "min_max_scaler = ('MinMaxScaler', MinMaxScaler())\n",
        "\n",
        "pipelines.append(('GB-orig', Pipeline(steps=[grad_boost])))\n",
        "pipelines.append(('GB-padr-norm', Pipeline(steps=[standard_scaler, min_max_scaler, grad_boost])))\n",
        "\n",
        "param_grid = {\n",
        "    'GB__n_estimators': [25, 50, 100],\n",
        "    'GB__max_depth': [3, 5, 7]\n",
        "}\n",
        "\n",
        "# Prepara e executa o GridSearchCV\n",
        "for name, model in pipelines:\n",
        "    grid = GridSearchCV(estimator=model, param_grid=param_grid, scoring=scoring, cv=kfold)\n",
        "    grid.fit(X_train_sel, y_train)\n",
        "    # imprime a melhor configuração\n",
        "    print(\"Sem tratamento de missings: %s - Melhor: %f usando %s\" % (name, grid.best_score_, grid.best_params_))"
      ]
    },
    {
      "cell_type": "markdown",
      "metadata": {
        "id": "yaPMi7nptb60"
      },
      "source": [
        "### 3.4) Construção, treinamento e avaliação de um modelo final"
      ]
    },
    {
      "cell_type": "code",
      "execution_count": null,
      "metadata": {
        "colab": {
          "base_uri": "https://localhost:8080/",
          "height": 384
        },
        "id": "u0R-3gurxvS7",
        "outputId": "5946b4b9-c642-4663-f4c1-65156c62e1dc"
      },
      "outputs": [
        {
          "output_type": "stream",
          "name": "stdout",
          "text": [
            "Vot-orig: 0.903 (0.012)\n",
            "Vot-pad: 0.902 (0.012)\n",
            "Vot-norm: 0.903 (0.010)\n",
            "Vot-pad-norm: 0.903 (0.010)\n"
          ]
        },
        {
          "output_type": "display_data",
          "data": {
            "text/plain": [
              "<Figure size 2500x600 with 1 Axes>"
            ],
            "image/png": "[encoded data removed]"
          },
          "metadata": {}
        }
      ],
      "source": [
        "# Treinando um novo Voting Ensemble com base nos 3 melhores (LR, Ada e GB)\n",
        "\n",
        "np.random.seed(7) # definindo uma semente global para este bloco\n",
        "\n",
        "# Listas para armazenar os pipelines e os resultados para todas as visões do dataset\n",
        "pipelines = []\n",
        "results = []\n",
        "names = []\n",
        "\n",
        "# Definindo parâmetros\n",
        "num_trees = 100\n",
        "\n",
        "# Criando os modelos para o VotingClassifier\n",
        "bases2 = []\n",
        "model1 = LogisticRegression(max_iter=200)\n",
        "bases2.append(('lr', model1))\n",
        "model2 = AdaBoostClassifier(n_estimators=num_trees)\n",
        "bases2.append(('ada', model2))\n",
        "model3 = GradientBoostingClassifier(n_estimators=num_trees)\n",
        "bases2.append(('gb', model3))\n",
        "\n",
        "voting2 = ('Voting', VotingClassifier(bases2))\n",
        "\n",
        "# Transformações que serão utilizadas\n",
        "standard_scaler = ('StandardScaler', StandardScaler())\n",
        "min_max_scaler = ('MinMaxScaler', MinMaxScaler())\n",
        "\n",
        "# Montando os pipelines\n",
        "pipelines.append(('Vot-orig', Pipeline([voting2])))\n",
        "pipelines.append(('Vot-pad', Pipeline([standard_scaler, voting2])))\n",
        "pipelines.append(('Vot-norm', Pipeline([min_max_scaler, voting2])))\n",
        "pipelines.append(('Vot-pad-norm', Pipeline([standard_scaler, min_max_scaler, voting2])))\n",
        "\n",
        "# Executando os pipelines sem seleção de atributos\n",
        "for name, model in pipelines:\n",
        "    cv_results = cross_val_score(model, X_train, y_train, cv=kfold, scoring=scoring)\n",
        "    results.append(cv_results)\n",
        "    names.append(name)\n",
        "    msg = \"%s: %.3f (%.3f)\" % (name, cv_results.mean(), cv_results.std()) # formatando para 3 casas decimais\n",
        "    #print(msg)\n",
        "\n",
        "# Executando os pipelines com seleção de atributos\n",
        "for name, model in pipelines:\n",
        "    cv_results = cross_val_score(model, X_train_sel, y_train, cv=kfold, scoring=scoring)\n",
        "    results.append(cv_results)\n",
        "    names.append(name + \"-sel\")\n",
        "    msg = \"%s: %.3f (%.3f)\" % (name, cv_results.mean(), cv_results.std()) # formatando para 3 casas decimais\n",
        "    print(msg)\n",
        "\n",
        "# Boxplot de comparação dos modelos\n",
        "fig = plt.figure(figsize=(25,6))\n",
        "fig.suptitle('Comparação do Modelo Final - Dataset original, padronizado e normalizado sem e com seleção de atributos')\n",
        "ax = fig.add_subplot(111)\n",
        "plt.boxplot(results)\n",
        "ax.set_xticklabels(names, rotation=90)\n",
        "plt.show()"
      ]
    },
    {
      "cell_type": "markdown",
      "metadata": {
        "id": "vz-4U1bVun2m"
      },
      "source": [
        "## 4) Avaliação de resultados"
      ]
    },
    {
      "cell_type": "markdown",
      "metadata": {
        "id": "j8oagg4A3up-"
      },
      "source": [
        "### 4.1) Avaliação do modelo escolhido com a base de teste"
      ]
    },
    {
      "cell_type": "code",
      "execution_count": null,
      "metadata": {
        "colab": {
          "base_uri": "https://localhost:8080/"
        },
        "id": "3WZwiezg4JWU",
        "outputId": "7a2c70f6-f795-4b26-90c3-793b740d5961"
      },
      "outputs": [
        {
          "output_type": "stream",
          "name": "stdout",
          "text": [
            "0.8972375690607735\n"
          ]
        }
      ],
      "source": [
        "# Preparação do modelo\n",
        "pipeline = Pipeline([standard_scaler, min_max_scaler])\n",
        "scaler = pipeline.fit(X_train_sel) # ajuste do scaler com o conjunto de treino\n",
        "rescaledX = scaler.transform(X_train_sel) # aplicação da padronização no conjunto de treino\n",
        "model = voting2[1]\n",
        "model.fit(rescaledX, y_train)\n",
        "\n",
        "# Estimativa da acurácia no conjunto de teste\n",
        "rescaledTestX = scaler.transform(X_test_sel) # aplicação da padronização no conjunto de teste\n",
        "predictions = model.predict(rescaledTestX)\n",
        "print(accuracy_score(y_test, predictions))"
      ]
    },
    {
      "cell_type": "markdown",
      "metadata": {
        "id": "6Ha93mrA5Q57"
      },
      "source": [
        "### 4.2) Preparação do modelo escolhido com toda a base de dados"
      ]
    },
    {
      "cell_type": "code",
      "execution_count": null,
      "metadata": {
        "colab": {
          "base_uri": "https://localhost:8080/",
          "height": 110
        },
        "id": "89MjebUZ5KCZ",
        "outputId": "5761c8da-8bfa-4fd9-d9a3-ffd146650a31"
      },
      "outputs": [
        {
          "output_type": "execute_result",
          "data": {
            "text/plain": [
              "VotingClassifier(estimators=[('lr', LogisticRegression(max_iter=200)),\n",
              "                             ('ada', AdaBoostClassifier(n_estimators=100)),\n",
              "                             ('gb', GradientBoostingClassifier())])"
            ],
            "text/html": [
              "<style>#sk-container-id-1 {color: black;background-color: white;}#sk-container-id-1 pre{padding: 0;}#sk-container-id-1 div.sk-toggleable {background-color: white;}#sk-container-id-1 label.sk-toggleable__label {cursor: pointer;display: block;width: 100%;margin-bottom: 0;padding: 0.3em;box-sizing: border-box;text-align: center;}#sk-container-id-1 label.sk-toggleable__label-arrow:before {content: \"▸\";float: left;margin-right: 0.25em;color: #696969;}#sk-container-id-1 label.sk-toggleable__label-arrow:hover:before {color: black;}#sk-container-id-1 div.sk-estimator:hover label.sk-toggleable__label-arrow:before {color: black;}#sk-container-id-1 div.sk-toggleable__content {max-height: 0;max-width: 0;overflow: hidden;text-align: left;background-color: #f0f8ff;}#sk-container-id-1 div.sk-toggleable__content pre {margin: 0.2em;color: black;border-radius: 0.25em;background-color: #f0f8ff;}#sk-container-id-1 input.sk-toggleable__control:checked~div.sk-toggleable__content {max-height: 200px;max-width: 100%;overflow: auto;}#sk-container-id-1 input.sk-toggleable__control:checked~label.sk-toggleable__label-arrow:before {content: \"▾\";}#sk-container-id-1 div.sk-estimator input.sk-toggleable__control:checked~label.sk-toggleable__label {background-color: #d4ebff;}#sk-container-id-1 div.sk-label input.sk-toggleable__control:checked~label.sk-toggleable__label {background-color: #d4ebff;}#sk-container-id-1 input.sk-hidden--visually {border: 0;clip: rect(1px 1px 1px 1px);clip: rect(1px, 1px, 1px, 1px);height: 1px;margin: -1px;overflow: hidden;padding: 0;position: absolute;width: 1px;}#sk-container-id-1 div.sk-estimator {font-family: monospace;background-color: #f0f8ff;border: 1px dotted black;border-radius: 0.25em;box-sizing: border-box;margin-bottom: 0.5em;}#sk-container-id-1 div.sk-estimator:hover {background-color: #d4ebff;}#sk-container-id-1 div.sk-parallel-item::after {content: \"\";width: 100%;border-bottom: 1px solid gray;flex-grow: 1;}#sk-container-id-1 div.sk-label:hover label.sk-toggleable__label {background-color: #d4ebff;}#sk-container-id-1 div.sk-serial::before {content: \"\";position: absolute;border-left: 1px solid gray;box-sizing: border-box;top: 0;bottom: 0;left: 50%;z-index: 0;}#sk-container-id-1 div.sk-serial {display: flex;flex-direction: column;align-items: center;background-color: white;padding-right: 0.2em;padding-left: 0.2em;position: relative;}#sk-container-id-1 div.sk-item {position: relative;z-index: 1;}#sk-container-id-1 div.sk-parallel {display: flex;align-items: stretch;justify-content: center;background-color: white;position: relative;}#sk-container-id-1 div.sk-item::before, #sk-container-id-1 div.sk-parallel-item::before {content: \"\";position: absolute;border-left: 1px solid gray;box-sizing: border-box;top: 0;bottom: 0;left: 50%;z-index: -1;}#sk-container-id-1 div.sk-parallel-item {display: flex;flex-direction: column;z-index: 1;position: relative;background-color: white;}#sk-container-id-1 div.sk-parallel-item:first-child::after {align-self: flex-end;width: 50%;}#sk-container-id-1 div.sk-parallel-item:last-child::after {align-self: flex-start;width: 50%;}#sk-container-id-1 div.sk-parallel-item:only-child::after {width: 0;}#sk-container-id-1 div.sk-dashed-wrapped {border: 1px dashed gray;margin: 0 0.4em 0.5em 0.4em;box-sizing: border-box;padding-bottom: 0.4em;background-color: white;}#sk-container-id-1 div.sk-label label {font-family: monospace;font-weight: bold;display: inline-block;line-height: 1.2em;}#sk-container-id-1 div.sk-label-container {text-align: center;}#sk-container-id-1 div.sk-container {/* jupyter's `normalize.less` sets `[hidden] { display: none; }` but bootstrap.min.css set `[hidden] { display: none !important; }` so we also need the `!important` here to be able to override the default hidden behavior on the sphinx rendered scikit-learn.org. See: https://github.com/scikit-learn/scikit-learn/issues/21755 */display: inline-block !important;position: relative;}#sk-container-id-1 div.sk-text-repr-fallback {display: none;}</style><div id=\"sk-container-id-1\" class=\"sk-top-container\"><div class=\"sk-text-repr-fallback\"><pre>VotingClassifier(estimators=[(&#x27;lr&#x27;, LogisticRegression(max_iter=200)),\n",
              "                             (&#x27;ada&#x27;, AdaBoostClassifier(n_estimators=100)),\n",
              "                             (&#x27;gb&#x27;, GradientBoostingClassifier())])</pre><b>In a Jupyter environment, please rerun this cell to show the HTML representation or trust the notebook. <br />On GitHub, the HTML representation is unable to render, please try loading this page with nbviewer.org.</b></div><div class=\"sk-container\" hidden><div class=\"sk-item sk-dashed-wrapped\"><div class=\"sk-label-container\"><div class=\"sk-label sk-toggleable\"><input class=\"sk-toggleable__control sk-hidden--visually\" id=\"sk-estimator-id-1\" type=\"checkbox\" ><label for=\"sk-estimator-id-1\" class=\"sk-toggleable__label sk-toggleable__label-arrow\">VotingClassifier</label><div class=\"sk-toggleable__content\"><pre>VotingClassifier(estimators=[(&#x27;lr&#x27;, LogisticRegression(max_iter=200)),\n",
              "                             (&#x27;ada&#x27;, AdaBoostClassifier(n_estimators=100)),\n",
              "                             (&#x27;gb&#x27;, GradientBoostingClassifier())])</pre></div></div></div><div class=\"sk-parallel\"><div class=\"sk-parallel-item\"><div class=\"sk-item\"><div class=\"sk-label-container\"><div class=\"sk-label sk-toggleable\"><label>lr</label></div></div><div class=\"sk-serial\"><div class=\"sk-item\"><div class=\"sk-estimator sk-toggleable\"><input class=\"sk-toggleable__control sk-hidden--visually\" id=\"sk-estimator-id-2\" type=\"checkbox\" ><label for=\"sk-estimator-id-2\" class=\"sk-toggleable__label sk-toggleable__label-arrow\">LogisticRegression</label><div class=\"sk-toggleable__content\"><pre>LogisticRegression(max_iter=200)</pre></div></div></div></div></div></div><div class=\"sk-parallel-item\"><div class=\"sk-item\"><div class=\"sk-label-container\"><div class=\"sk-label sk-toggleable\"><label>ada</label></div></div><div class=\"sk-serial\"><div class=\"sk-item\"><div class=\"sk-estimator sk-toggleable\"><input class=\"sk-toggleable__control sk-hidden--visually\" id=\"sk-estimator-id-3\" type=\"checkbox\" ><label for=\"sk-estimator-id-3\" class=\"sk-toggleable__label sk-toggleable__label-arrow\">AdaBoostClassifier</label><div class=\"sk-toggleable__content\"><pre>AdaBoostClassifier(n_estimators=100)</pre></div></div></div></div></div></div><div class=\"sk-parallel-item\"><div class=\"sk-item\"><div class=\"sk-label-container\"><div class=\"sk-label sk-toggleable\"><label>gb</label></div></div><div class=\"sk-serial\"><div class=\"sk-item\"><div class=\"sk-estimator sk-toggleable\"><input class=\"sk-toggleable__control sk-hidden--visually\" id=\"sk-estimator-id-4\" type=\"checkbox\" ><label for=\"sk-estimator-id-4\" class=\"sk-toggleable__label sk-toggleable__label-arrow\">GradientBoostingClassifier</label><div class=\"sk-toggleable__content\"><pre>GradientBoostingClassifier()</pre></div></div></div></div></div></div></div></div></div></div>"
            ]
          },
          "metadata": {},
          "execution_count": 106
        }
      ],
      "source": [
        "X_sel = np.vstack([X_train_sel,X_test_sel])\n",
        "y_sel = np.hstack([y_train,y_test])\n",
        "scaler = pipeline.fit(X_sel) # ajuste do scaler com TODO o dataset\n",
        "rescaledX = scaler.transform(X_sel) # aplicação do scaler a TODO o dataset\n",
        "model.fit(rescaledX, y_sel)"
      ]
    },
    {
      "cell_type": "markdown",
      "metadata": {
        "id": "GRtYbIwhd3K7"
      },
      "source": [
        "### 4.3) Simulação de utilização do modelo"
      ]
    },
    {
      "cell_type": "code",
      "execution_count": null,
      "metadata": {
        "colab": {
          "base_uri": "https://localhost:8080/"
        },
        "id": "k-HA_pXfd2KU",
        "outputId": "f5c936fc-84c6-4e19-9c91-b50fe89682ee"
      },
      "outputs": [
        {
          "output_type": "stream",
          "name": "stdout",
          "text": [
            "[0 0 1]\n"
          ]
        }
      ],
      "source": [
        "# Atributos selecionados e utilizados no modelo final\n",
        "sel_feat = ['duration', 'pdays', 'previous', 'housing_yes', 'contact_unknown',\n",
        "       'month_mar', 'month_may', 'month_oct', 'poutcome_success',\n",
        "       'poutcome_unknown']\n",
        "\n",
        "data = {'duration':  [3, 185, 600],\n",
        "        'pdays': [30, -1, 32],\n",
        "        'previous': [6, 0, 11],\n",
        "        'housing_yes': [1, 0, 0],\n",
        "        'contact_unknown': [0, 1, 0],\n",
        "        'month_mar': [1, 0, 0],\n",
        "        'month_may': [0, 1, 0],\n",
        "        'month_oct': [0, 0, 1],\n",
        "        'poutcome_success': [0, 0, 1],\n",
        "        'poutcome_unknown': [1, 0, 0],\n",
        "        }\n",
        "\n",
        "entrada = pd.DataFrame(data, columns=sel_feat)\n",
        "array_entrada = entrada.values\n",
        "X_entrada = array_entrada[:,0:10].astype(float)\n",
        "\n",
        "# Padronização nos dados de entrada usando o scaler utilizado em X\n",
        "rescaledEntradaX = scaler.transform(X_entrada)\n",
        "\n",
        "# Predição de classes dos dados de entrada (0 = rejeita o serviço, 1 = contrata o serviço)\n",
        "saidas = model.predict(rescaledEntradaX)\n",
        "print(saidas)"
      ]
    },
    {
      "cell_type": "markdown",
      "metadata": {
        "id": "F2ZvzencN7FH"
      },
      "source": [
        "### 4.4) Conclusão"
      ]
    },
    {
      "cell_type": "markdown",
      "metadata": {
        "id": "qoh_Ca6QOBFe"
      },
      "source": [
        "Dentre os diferentes modelos e transformações de dados avaliados, observamos que:\n",
        "\n",
        "1) padronizar e/ou normalizar os dados melhorou sensivelmente os resultados;\n",
        "\n",
        "2) selecionar os atributos (10 de 43 pós-codificação) melhorou significativamente os resultados, particularmente para os métodos DecisionTreeClassifier e NaiveBayes;\n",
        "\n",
        "3) a tentativa de otimização de hiperparâmetros para os métodos que tinham os melhores resultados (LogisticRegression, AdaBoost e GradientBoosting) não teve retorno apreciável.\n",
        "\n",
        "Decidiu-se por treinar um *Voting Ensemble* com base nos 3 métodos com os melhores resultados (citados no item 3 acima), o que resultou em acurácia comparável/sensivelmente melhor (média = 90,3% e desvio padrão = 1,0%) que os melhores modelos anteriores. O modelo final foi então confrontado com a base de teste apresentando 89,7% de acurácia, similar ao treinamento, o que pressupoê um *fitting* adequado e ausência de problemas como *data leakage*. Por fim, o modelo foi treinado com todo o conjunto de dados e seu uso simulado, estando pronto para implantação."
      ]
    },
    {
      "cell_type": "markdown",
      "metadata": {
        "id": "LFDquYi51DRy"
      },
      "source": [
        "#B) DNN para problema de NLP"
      ]
    },
    {
      "cell_type": "markdown",
      "metadata": {
        "id": "T8yQpr1SbZ9C"
      },
      "source": [
        "## 1) Definição do problema\n"
      ]
    },
    {
      "cell_type": "markdown",
      "metadata": {
        "id": "MWA1jgWlbZ9C"
      },
      "source": [
        "A partir de um conjunto de dados compilado pela *Stanford University* de avaliações de filmes feitas por usuários do IMDb (*Internet Move Database*), utilizaremos ferramentas de NLP (*Natural Language Processing*) e treinaremos um modelo baseado em DNN (*Deep Neural Network*) para classificação de sentimentos.\n",
        "\n",
        "O *dataset* está disponível na biblioteca Keras e possui 50 mil avaliações (divididas em 2 partes iguais: avaliações altamente polarizadas e demais avaliações) e 2 atributos:\n",
        "\n",
        "***reviews*** - texto em inglês codificado como uma sequência de índices de palavras na forma de inteiros. As palavras dentro das avaliações são indexadas com base em sua frequência geral no conjunto de dados. Por exemplo, o inteiro \"2\" codifica a segunda palavra mais frequente nos dados\n",
        "\n",
        "***sentiments*** - binário 1 (avaliação positiva) ou 0 (avaliação negativa)"
      ]
    },
    {
      "cell_type": "markdown",
      "metadata": {
        "id": "waP4J9Dgkfrc"
      },
      "source": [
        "## 2) Preparação de dados"
      ]
    },
    {
      "cell_type": "markdown",
      "metadata": {
        "id": "ovSAkKUEkwvs"
      },
      "source": [
        "### 2.1) Importação e limpeza"
      ]
    },
    {
      "cell_type": "code",
      "execution_count": 3,
      "metadata": {
        "id": "6KJ8rqomlKnU"
      },
      "outputs": [],
      "source": [
        "# configuração para não exibir os warnings\n",
        "import warnings\n",
        "warnings.filterwarnings(\"ignore\")\n",
        "\n",
        "# Imports necessários\n",
        "import pandas as pd\n",
        "import numpy as np\n",
        "from keras.datasets import imdb #módulo com o dataset"
      ]
    },
    {
      "cell_type": "code",
      "execution_count": 4,
      "metadata": {
        "id": "QFIJ9BI7Zwd9"
      },
      "outputs": [],
      "source": [
        "# importando e concatenado as 2 partes do dataset (25 mil avaliações polarizadas e 25 mil demais)\n",
        "num_words=10000 # limita o vocabulário importado a 10 mil palavras mais frequentes, as demais são substituídas por #\n",
        "(training_data, training_targets), (testing_data, testing_targets) = imdb.load_data(num_words=num_words)\n",
        "X_coded = np.concatenate((training_data, testing_data), axis=0)\n",
        "y_full = np.concatenate((training_targets, testing_targets), axis=0)"
      ]
    },
    {
      "cell_type": "code",
      "execution_count": 5,
      "metadata": {
        "id": "pH0SP9QfSsZt"
      },
      "outputs": [],
      "source": [
        "# decodificando reviews (as palavras são inteiros, 1 = palavra mais frequente no corpus, 2 = segunda mais frequente, etc.)\n",
        "index = imdb.get_word_index() # dicionário para decodificar os reviews\n",
        "reverse_index = dict([(value, key) for (key, value) in index.items()]) # inverte chaves e valores para decodificação\n",
        "X_decoded = []\n",
        "X_decoded_filtered = []\n",
        "X_decoded_plain = []\n",
        "for code in X_coded:\n",
        "  word_list = [reverse_index.get(i - 3, \"#\") for i in code] # lista de palavras na ordem original de cada review\n",
        "  X_decoded.append(word_list) # review recomposta em uma lista de palavras\n",
        "  X_decoded_plain.append(\" \".join(word_list)) # review recomposta em texto corrido"
      ]
    },
    {
      "cell_type": "code",
      "execution_count": 6,
      "metadata": {
        "colab": {
          "base_uri": "https://localhost:8080/"
        },
        "id": "iJouYeg3i9Mq",
        "outputId": "78e4632a-0f6a-4c57-a433-0a9034c5a995"
      },
      "outputs": [
        {
          "output_type": "stream",
          "name": "stdout",
          "text": [
            "['#', 'big', 'hair', 'big', 'boobs', 'bad', 'music', 'and', 'a', 'giant', 'safety', 'pin', 'these', 'are', 'the', 'words', 'to', 'best', 'describe', 'this', 'terrible', 'movie']\n"
          ]
        }
      ],
      "source": [
        "print(X_decoded[1][:22])"
      ]
    },
    {
      "cell_type": "code",
      "execution_count": 7,
      "metadata": {
        "colab": {
          "base_uri": "https://localhost:8080/",
          "height": 35
        },
        "id": "cmUQLx_b3iK7",
        "outputId": "2411cb77-cb06-410f-8c82-816fcc0d076e"
      },
      "outputs": [
        {
          "output_type": "execute_result",
          "data": {
            "text/plain": [
              "'# big hair big boobs bad music and a giant safety pin these are the words to best describe this terrible movie'"
            ],
            "application/vnd.google.colaboratory.intrinsic+json": {
              "type": "string"
            }
          },
          "metadata": {},
          "execution_count": 7
        }
      ],
      "source": [
        "X_decoded_plain[1][:110]"
      ]
    },
    {
      "cell_type": "markdown",
      "metadata": {
        "id": "9O1bTkJuda7L"
      },
      "source": [
        "Utilizaremos uma amostra aleatória de 5 mil dos 50 mil reviews para o projeto não consumir muito tempo de execução."
      ]
    },
    {
      "cell_type": "code",
      "execution_count": 8,
      "metadata": {
        "id": "uBM4xH97wRri"
      },
      "outputs": [],
      "source": [
        "import random\n",
        "random.seed(7)\n",
        "random_idx = random.sample(range(50000), 5000) # cria lista aleatória de 5 mil números entre 0 e 49 mil)\n",
        "X = [X_decoded_plain[i] for i in random_idx]\n",
        "y = [y_full[i] for i in random_idx]"
      ]
    },
    {
      "cell_type": "markdown",
      "metadata": {
        "id": "uef_Ucp953l1"
      },
      "source": [
        "### 2.2) Separação em treino e teste"
      ]
    },
    {
      "cell_type": "code",
      "execution_count": 9,
      "metadata": {
        "id": "zA1Ge54YKLbR",
        "colab": {
          "base_uri": "https://localhost:8080/"
        },
        "outputId": "000fbc63-11ee-4a7f-be6e-3a016d303716"
      },
      "outputs": [
        {
          "output_type": "execute_result",
          "data": {
            "text/plain": [
              "2000"
            ]
          },
          "metadata": {},
          "execution_count": 9
        }
      ],
      "source": [
        "from sklearn.model_selection import train_test_split, StratifiedKFold\n",
        "\n",
        "seed = 7 # semente aleatória\n",
        "test_size = 0.20 # tamanho do conjunto de teste\n",
        "\n",
        "# Separação em conjuntos de treino e teste\n",
        "X_train, X_test, y_train, y_test = train_test_split(X, y,\n",
        "    test_size=test_size, shuffle=True, random_state=seed, stratify=y) # holdout com estratificação\n",
        "\n",
        "#verificando balanceamento de classes dentre 4 mil reviews de treino\n",
        "sum(y_train)\n",
        "\n",
        "# # Parâmetros e partições da validação cruzada\n",
        "# scoring = 'accuracy'\n",
        "# num_particoes = 10\n",
        "# kfold = StratifiedKFold(n_splits=num_particoes, shuffle=True, random_state=seed) # validação cruzada com estratificação"
      ]
    },
    {
      "cell_type": "markdown",
      "source": [
        "Não há desbalanceamento de classes, por isso, por simplificação, decidiu-se dispensar a validação cruzada."
      ],
      "metadata": {
        "id": "dzeX1SlzeAQH"
      }
    },
    {
      "cell_type": "markdown",
      "metadata": {
        "id": "3yPqEC433pbW"
      },
      "source": [
        "### 2.3) Tratamento e seleção de atributos"
      ]
    },
    {
      "cell_type": "markdown",
      "metadata": {
        "id": "JBn18TGbANAL"
      },
      "source": [
        "Inicialmente nesta seção, construiremos uma versão de *dataset* com remoção de caracteres especiais e pontuação, \"tokenização\" (texto para lista de palavras), remoção de *stopwords* (artigos, preposições, etc.) e \"lemmatização\" (radical da palavra) dos *reviews*."
      ]
    },
    {
      "cell_type": "code",
      "execution_count": 10,
      "metadata": {
        "colab": {
          "base_uri": "https://localhost:8080/"
        },
        "id": "Pm3yvQSVSDTZ",
        "outputId": "f92a8bd8-946f-42c4-a415-aeeeca6d0192"
      },
      "outputs": [
        {
          "output_type": "stream",
          "name": "stdout",
          "text": [
            "\u001b[38;5;2m✔ Download and installation successful\u001b[0m\n",
            "You can now load the package via spacy.load('en_core_web_sm')\n"
          ]
        }
      ],
      "source": [
        "import nltk\n",
        "import spacy\n",
        "import re\n",
        "spacy.cli.download(\"en_core_web_sm\")\n",
        "nlp = spacy.load('en_core_web_sm', disable=['ner', 'parser']) # disabling Named Entity Recognition for speed"
      ]
    },
    {
      "cell_type": "code",
      "execution_count": 11,
      "metadata": {
        "id": "02hMRKnTgRiH"
      },
      "outputs": [],
      "source": [
        "def clean(doc):\n",
        "  doc = re.sub(r'[^\\w\\s]', ' ', doc).lower() #remove caracteres não-alfa numéricos e torna as letras minúsculas\n",
        "  doc = nlp(doc) # tornando o documento um objeto spacy\n",
        "  lemma_list = [token.lemma_.replace(' ','') for token in doc if not token.is_stop] # remove stopwords e lemmatiza\n",
        "  lemma_list = list(filter(lambda lemma: len(lemma) > 2 or lemma.isdigit(), lemma_list)) # retém lemmas com mais de 2 caracteres e números\n",
        "  return ' '.join(lemma_list) # retorna lista de lemmas"
      ]
    },
    {
      "cell_type": "code",
      "execution_count": 12,
      "metadata": {
        "colab": {
          "base_uri": "https://localhost:8080/",
          "height": 35
        },
        "id": "1vPtWiHCsPbs",
        "outputId": "cdd0aaed-46e7-443b-affe-c9a2325c28e3"
      },
      "outputs": [
        {
          "output_type": "execute_result",
          "data": {
            "text/plain": [
              "'test way trouble review review 3'"
            ],
            "application/vnd.google.colaboratory.intrinsic+json": {
              "type": "string"
            }
          },
          "metadata": {},
          "execution_count": 12
        }
      ],
      "source": [
        "# testando função\n",
        "clean(\"Test it on. Do it @ or there's no way to not get in trouble for that! # reviewing/reviews, 3;\")"
      ]
    },
    {
      "cell_type": "code",
      "execution_count": 13,
      "metadata": {
        "id": "SFQH4tiImyot"
      },
      "outputs": [],
      "source": [
        "# limpando os reviews\n",
        "X_train_clean = []\n",
        "for review in X_train:\n",
        "  X_train_clean.append(clean(review))\n",
        "\n",
        "X_test_clean = []\n",
        "for review in X_test:\n",
        "  X_test_clean.append(clean(review))"
      ]
    },
    {
      "cell_type": "code",
      "execution_count": 14,
      "metadata": {
        "colab": {
          "base_uri": "https://localhost:8080/"
        },
        "id": "y_Nldbc_8sTX",
        "outputId": "8c923384-7709-48b5-bc00-c17f836cff95"
      },
      "outputs": [
        {
          "output_type": "stream",
          "name": "stdout",
          "text": [
            "bad piece garbage see heath ledger look wish know item real life spend 2 long hour life wonder see orlando bloom beard deer look agree rachel usual fabulous self geoffrey rush look couldn wait set suppose feel sorry murderer far cry butch cassidy actually entertaining film trite cliche ride bore stay convince well didn 10 15 minute unintentionally hilarious heath gang frontier hotel woman child die presence funny funny walk hotel armor think black knight monty python holy grail keep wait bite leg howl laughter member audience leave pretty talk waste time film pay cash disaster sneak preview certainly wasn free cost 2 hour life\n"
          ]
        }
      ],
      "source": [
        "print(X_train_clean[0])"
      ]
    },
    {
      "cell_type": "markdown",
      "metadata": {
        "id": "zyE0Z207dKSr"
      },
      "source": [
        "Agora processaremos os *datasets* para produzir uma vetorização por contagem (uma das técnicas de *bag of words* - BOW)."
      ]
    },
    {
      "cell_type": "code",
      "execution_count": 15,
      "metadata": {
        "id": "kKJMwPzOApXE"
      },
      "outputs": [],
      "source": [
        "# bag of words\n",
        "from sklearn.feature_extraction.text import CountVectorizer\n",
        "\n",
        "# Cria uma instância do CountVectorizer\n",
        "vectorizer = CountVectorizer()\n",
        "vectorizer_clean = CountVectorizer()\n",
        "\n",
        "# Aprende o vocabulário e transforma reviews em vetores de contagem\n",
        "X_train_bow = np.array(vectorizer.fit_transform(X_train).todense())\n",
        "X_test_bow = np.array(vectorizer.transform(X_test).todense())\n",
        "\n",
        "X_train_clean_bow = np.array(vectorizer_clean.fit_transform(X_train_clean).todense())\n",
        "X_test_clean_bow = np.array(vectorizer_clean.transform(X_test_clean).todense())\n",
        "\n",
        "# Armazena os novos atributos (vocabulário) em um dicionário\n",
        "vocab = vectorizer.vocabulary_\n",
        "vocab_clean = vectorizer_clean.vocabulary_"
      ]
    },
    {
      "cell_type": "code",
      "execution_count": 16,
      "metadata": {
        "colab": {
          "base_uri": "https://localhost:8080/"
        },
        "id": "GVVTaMrp7tlD",
        "outputId": "0d3373bc-2f89-49d7-ea54-6fd4f72dcd26"
      },
      "outputs": [
        {
          "output_type": "stream",
          "name": "stdout",
          "text": [
            "9297\n"
          ]
        }
      ],
      "source": [
        "# Verificando resultado da vetorização\n",
        "\n",
        "# Componente vetorial (atributo) que representa uma palavra do vocabulário\n",
        "word_id = vocab['visceral']\n",
        "print(word_id)"
      ]
    },
    {
      "cell_type": "markdown",
      "metadata": {
        "id": "tkCBDMfcegqp"
      },
      "source": [
        "Por fim, processaremos os *datasets* usando Doc2Vec (vetorização mais avançada que busca representar o \"sentido e intensidade semântica\" de um documento em relação ao corpus de documentos e o *tagging* atribuído)."
      ]
    },
    {
      "cell_type": "code",
      "execution_count": 17,
      "metadata": {
        "id": "1R81Il0W5AdT"
      },
      "outputs": [],
      "source": [
        "# Doc2Vec\n",
        "\n",
        "# Imports necessários\n",
        "from gensim.models import doc2vec\n",
        "from scipy import spatial\n",
        "\n",
        "# Instanciando modelos\n",
        "doc2_mod = doc2vec.Doc2Vec(vector_size=200, window=5, min_count=1, workers=4, alpha=0.025, seed=7)\n",
        "doc2_clean_mod = doc2vec.Doc2Vec(vector_size=200, window=5, min_count=1, workers=4, alpha=0.025, seed=7)\n",
        "\n",
        "# função para tokenizar texto, necessária para criar vocabulário doc2vec\n",
        "def to_tokens(text_list):\n",
        "  tokenlist_list = []\n",
        "  for text in text_list:\n",
        "    doc = nlp(text)\n",
        "    tokenlist_list.append([str(token) for token in doc])\n",
        "  return tokenlist_list\n",
        "\n",
        "# construindo versões tokenizadas dos datasets\n",
        "X_train_tokens = to_tokens(X_train)\n",
        "X_train_clean_tokens = to_tokens(X_train_clean)\n",
        "X_test_tokens = to_tokens(X_test)\n",
        "X_test_clean_tokens = to_tokens(X_test_clean)\n",
        "\n",
        "# criando sentenças taggeadas para construir os vocabulários\n",
        "tagged_sentences = [doc2vec.TaggedDocument(words=doc, tags=[str(y)]) for doc, y in zip(X_train_tokens, y_train)]\n",
        "tagged_sentences_clean = [doc2vec.TaggedDocument(words=doc, tags=[str(y)]) for doc, y in zip(X_train_clean_tokens, y_train)]\n",
        "\n",
        "# construindo vocabulários\n",
        "doc2_mod.build_vocab(tagged_sentences)\n",
        "doc2_clean_mod.build_vocab(tagged_sentences_clean)"
      ]
    },
    {
      "cell_type": "code",
      "execution_count": 18,
      "metadata": {
        "id": "-iT3No7TDwEv"
      },
      "outputs": [],
      "source": [
        "# treinando modelos\n",
        "doc2_mod.train(tagged_sentences, total_examples=doc2_mod.corpus_count, epochs=doc2_mod.epochs)\n",
        "doc2_clean_mod.train(tagged_sentences_clean, total_examples=doc2_clean_mod.corpus_count, epochs=doc2_clean_mod.epochs)"
      ]
    },
    {
      "cell_type": "code",
      "execution_count": 19,
      "metadata": {
        "id": "KO2c9P2FOny7"
      },
      "outputs": [],
      "source": [
        "# datasets vetorizados\n",
        "X_train_d2v = np.array([doc2_mod.infer_vector(doc) for doc in X_train_tokens])\n",
        "X_test_d2v = np.array([doc2_mod.infer_vector(doc) for doc in X_test_tokens])\n",
        "\n",
        "X_train_clean_d2v = np.array([doc2_clean_mod.infer_vector(doc) for doc in X_train_clean_tokens])\n",
        "X_test_clean_d2v = np.array([doc2_clean_mod.infer_vector(doc) for doc in X_test_clean_tokens])"
      ]
    },
    {
      "cell_type": "markdown",
      "metadata": {
        "id": "2Fs8-YIj596W"
      },
      "source": [
        "## 3) Modelagem e treinamento"
      ]
    },
    {
      "cell_type": "markdown",
      "metadata": {
        "id": "nqxvpYMHZey1"
      },
      "source": [
        "###3.1) Construção e avaliação dos modelos"
      ]
    },
    {
      "cell_type": "markdown",
      "source": [
        "Treinamento e teste de um modelo para BOW:"
      ],
      "metadata": {
        "id": "cDPh4TMSs9Is"
      }
    },
    {
      "cell_type": "code",
      "execution_count": 20,
      "metadata": {
        "id": "2nIJPsQvp4p4"
      },
      "outputs": [],
      "source": [
        "np.random.seed(7) # definindo uma semente global para este bloco\n",
        "\n",
        "# imports necessários\n",
        "from keras.models import Sequential\n",
        "from keras.layers import Dense\n",
        "from keras.layers import Dropout\n",
        "from sklearn.preprocessing import MinMaxScaler\n",
        "from sklearn.decomposition import PCA\n",
        "\n",
        "# Função que cria o modelo DNN\n",
        "def create_model(num_feat, inner_layers=1, inner_neurons=32, drop=0.5, inner_activ_func='relu', out_activ_func='sigmoid',\n",
        "                 loss='binary_crossentropy', optimizer='adam', metrics=['accuracy']):\n",
        "  model = Sequential()\n",
        "  model.add(Dense(num_feat, activation=inner_activ_func))\n",
        "  for i in range(inner_layers):\n",
        "    model.add(Dense(inner_neurons, activation=inner_activ_func))\n",
        "    model.add(Dropout(drop))\n",
        "  model.add(Dense(1, activation=out_activ_func))\n",
        "  model.compile(loss=loss, optimizer=optimizer, metrics=metrics)\n",
        "  return model\n",
        "\n",
        "# instanciando normalizador\n",
        "norm =  MinMaxScaler()\n",
        "\n",
        "# convertendo alvos de treino e teste para numpy array\n",
        "y_model = np.array(y_train)\n",
        "y_model_test = np.array(y_test)"
      ]
    },
    {
      "cell_type": "code",
      "source": [
        "# normalização e redução de dimensionalidade para uso dataset BOW\n",
        "pca = PCA()\n",
        "X_model = pca.fit_transform(norm.fit_transform(X_train_bow))\n",
        "X_model_test = pca.transform(norm.fit_transform(X_test_bow))"
      ],
      "metadata": {
        "id": "ztDdS1zEr6oW"
      },
      "execution_count": 31,
      "outputs": []
    },
    {
      "cell_type": "code",
      "source": [
        "# criação do modelo\n",
        "model = create_model(X_model.shape[1])\n",
        "\n",
        "# treinamento\n",
        "model.fit(X_model, y_model, epochs=4, batch_size=1024, validation_data=(X_model_test, y_model_test))"
      ],
      "metadata": {
        "id": "ffBuavtisGl_",
        "colab": {
          "base_uri": "https://localhost:8080/"
        },
        "outputId": "d7a19d14-e5f2-42f5-a413-0436508a2d9f"
      },
      "execution_count": 32,
      "outputs": [
        {
          "output_type": "stream",
          "name": "stdout",
          "text": [
            "Epoch 1/4\n",
            "4/4 [==============================] - 8s 2s/step - loss: 0.6833 - accuracy: 0.5740 - val_loss: 0.6157 - val_accuracy: 0.8220\n",
            "Epoch 2/4\n",
            "4/4 [==============================] - 5s 1s/step - loss: 0.5191 - accuracy: 0.8755 - val_loss: 0.4840 - val_accuracy: 0.8550\n",
            "Epoch 3/4\n",
            "4/4 [==============================] - 6s 2s/step - loss: 0.3083 - accuracy: 0.9600 - val_loss: 0.3742 - val_accuracy: 0.8550\n",
            "Epoch 4/4\n",
            "4/4 [==============================] - 5s 1s/step - loss: 0.1362 - accuracy: 0.9915 - val_loss: 0.3476 - val_accuracy: 0.8430\n"
          ]
        },
        {
          "output_type": "execute_result",
          "data": {
            "text/plain": [
              "<keras.callbacks.History at 0x7a0f24d1abc0>"
            ]
          },
          "metadata": {},
          "execution_count": 32
        }
      ]
    },
    {
      "cell_type": "markdown",
      "source": [
        "Treinamento e teste de um modelo para BOW com tratamentos (versão \"clean\"):"
      ],
      "metadata": {
        "id": "VFRCgV1QtIOn"
      }
    },
    {
      "cell_type": "code",
      "source": [
        "# normalização e redução de dimensionalidade para uso dataset BOW tratado (clean)\n",
        "pca_clean = PCA()\n",
        "X_model = pca_clean.fit_transform(norm.fit_transform(X_train_clean_bow))\n",
        "X_model_test = pca_clean.transform(norm.fit_transform(X_test_clean_bow))"
      ],
      "metadata": {
        "id": "5R-ZcKGKtcRd"
      },
      "execution_count": 23,
      "outputs": []
    },
    {
      "cell_type": "code",
      "source": [
        "# criação do modelo\n",
        "model = create_model(X_model.shape[1])\n",
        "\n",
        "# treinamento\n",
        "model.fit(X_model, y_model, epochs=3, batch_size=1024, validation_data=(X_model_test, y_model_test))"
      ],
      "metadata": {
        "id": "OEDEDKRDtkfc",
        "colab": {
          "base_uri": "https://localhost:8080/"
        },
        "outputId": "6a85ad5d-6c7a-48bf-cc89-04b3d3a30c08"
      },
      "execution_count": 24,
      "outputs": [
        {
          "output_type": "stream",
          "name": "stdout",
          "text": [
            "Epoch 1/3\n",
            "4/4 [==============================] - 8s 2s/step - loss: 0.6832 - accuracy: 0.5847 - val_loss: 0.6291 - val_accuracy: 0.8190\n",
            "Epoch 2/3\n",
            "4/4 [==============================] - 6s 2s/step - loss: 0.5605 - accuracy: 0.8708 - val_loss: 0.5260 - val_accuracy: 0.8310\n",
            "Epoch 3/3\n",
            "4/4 [==============================] - 6s 2s/step - loss: 0.3872 - accuracy: 0.9467 - val_loss: 0.4205 - val_accuracy: 0.8400\n"
          ]
        },
        {
          "output_type": "execute_result",
          "data": {
            "text/plain": [
              "<keras.callbacks.History at 0x7a0f1c26d660>"
            ]
          },
          "metadata": {},
          "execution_count": 24
        }
      ]
    },
    {
      "cell_type": "markdown",
      "source": [
        "Treinamento e teste de um modelo para Doc2Vec:"
      ],
      "metadata": {
        "id": "7vF2WDUPtx8T"
      }
    },
    {
      "cell_type": "code",
      "source": [
        "# normalização para uso do dataset Doc2Vec\n",
        "X_model = norm.fit_transform(X_train_d2v)\n",
        "X_model_test = norm.fit_transform(X_test_d2v)"
      ],
      "metadata": {
        "id": "cwNv-pfexQKR"
      },
      "execution_count": 25,
      "outputs": []
    },
    {
      "cell_type": "code",
      "source": [
        "# criação do modelo\n",
        "model = create_model(X_model.shape[1])\n",
        "\n",
        "# treinamento\n",
        "model.fit(X_model, y_model, epochs=12, batch_size=512, validation_data=(X_model_test, y_model_test))"
      ],
      "metadata": {
        "id": "4ewpwP27zEIy",
        "colab": {
          "base_uri": "https://localhost:8080/"
        },
        "outputId": "9d26016f-bde1-4848-8fef-e04e439beabd"
      },
      "execution_count": 26,
      "outputs": [
        {
          "output_type": "stream",
          "name": "stdout",
          "text": [
            "Epoch 1/12\n",
            "8/8 [==============================] - 2s 50ms/step - loss: 0.7341 - accuracy: 0.5002 - val_loss: 0.6899 - val_accuracy: 0.5140\n",
            "Epoch 2/12\n",
            "8/8 [==============================] - 0s 15ms/step - loss: 0.6869 - accuracy: 0.5395 - val_loss: 0.6851 - val_accuracy: 0.5430\n",
            "Epoch 3/12\n",
            "8/8 [==============================] - 0s 16ms/step - loss: 0.6775 - accuracy: 0.5720 - val_loss: 0.6685 - val_accuracy: 0.6620\n",
            "Epoch 4/12\n",
            "8/8 [==============================] - 0s 18ms/step - loss: 0.6616 - accuracy: 0.6135 - val_loss: 0.6536 - val_accuracy: 0.7380\n",
            "Epoch 5/12\n",
            "8/8 [==============================] - 0s 18ms/step - loss: 0.6406 - accuracy: 0.6967 - val_loss: 0.6419 - val_accuracy: 0.7310\n",
            "Epoch 6/12\n",
            "8/8 [==============================] - 0s 11ms/step - loss: 0.6201 - accuracy: 0.7078 - val_loss: 0.6227 - val_accuracy: 0.6930\n",
            "Epoch 7/12\n",
            "8/8 [==============================] - 0s 10ms/step - loss: 0.5990 - accuracy: 0.7340 - val_loss: 0.6011 - val_accuracy: 0.7940\n",
            "Epoch 8/12\n",
            "8/8 [==============================] - 0s 11ms/step - loss: 0.5697 - accuracy: 0.7803 - val_loss: 0.5726 - val_accuracy: 0.8000\n",
            "Epoch 9/12\n",
            "8/8 [==============================] - 0s 9ms/step - loss: 0.5429 - accuracy: 0.7918 - val_loss: 0.5497 - val_accuracy: 0.8150\n",
            "Epoch 10/12\n",
            "8/8 [==============================] - 0s 13ms/step - loss: 0.5104 - accuracy: 0.8070 - val_loss: 0.5308 - val_accuracy: 0.7730\n",
            "Epoch 11/12\n",
            "8/8 [==============================] - 0s 12ms/step - loss: 0.4879 - accuracy: 0.8020 - val_loss: 0.5073 - val_accuracy: 0.8010\n",
            "Epoch 12/12\n",
            "8/8 [==============================] - 0s 13ms/step - loss: 0.4542 - accuracy: 0.8130 - val_loss: 0.4827 - val_accuracy: 0.7970\n"
          ]
        },
        {
          "output_type": "execute_result",
          "data": {
            "text/plain": [
              "<keras.callbacks.History at 0x7a0f1c151840>"
            ]
          },
          "metadata": {},
          "execution_count": 26
        }
      ]
    },
    {
      "cell_type": "markdown",
      "source": [
        "Treinamento e teste de um modelo para Doc2Vec com tratamentos (versão \"clean\"):"
      ],
      "metadata": {
        "id": "DosSywgSt3TT"
      }
    },
    {
      "cell_type": "code",
      "source": [
        "# normalização para uso do dataset Doc2Vec tratado (clean)\n",
        "X_model = norm.fit_transform(X_train_clean_d2v)\n",
        "X_model_test = norm.fit_transform(X_test_clean_d2v)"
      ],
      "metadata": {
        "id": "AEw_NwS7zJQs"
      },
      "execution_count": 27,
      "outputs": []
    },
    {
      "cell_type": "code",
      "source": [
        "# criação do modelo\n",
        "model = create_model(X_model.shape[1])\n",
        "\n",
        "# treinamento\n",
        "model.fit(X_model, y_model, epochs=8, batch_size=512, validation_data=(X_model_test, y_model_test))"
      ],
      "metadata": {
        "id": "Q9mIWhTkzJQt",
        "colab": {
          "base_uri": "https://localhost:8080/"
        },
        "outputId": "45ed2837-5d34-42a2-cd20-82346563edf2"
      },
      "execution_count": 28,
      "outputs": [
        {
          "output_type": "stream",
          "name": "stdout",
          "text": [
            "Epoch 1/8\n",
            "8/8 [==============================] - 1s 33ms/step - loss: 0.7232 - accuracy: 0.5120 - val_loss: 0.6695 - val_accuracy: 0.7230\n",
            "Epoch 2/8\n",
            "8/8 [==============================] - 0s 11ms/step - loss: 0.6576 - accuracy: 0.6447 - val_loss: 0.6351 - val_accuracy: 0.7970\n",
            "Epoch 3/8\n",
            "8/8 [==============================] - 0s 10ms/step - loss: 0.6201 - accuracy: 0.6963 - val_loss: 0.6024 - val_accuracy: 0.8160\n",
            "Epoch 4/8\n",
            "8/8 [==============================] - 0s 12ms/step - loss: 0.5822 - accuracy: 0.7477 - val_loss: 0.5691 - val_accuracy: 0.8070\n",
            "Epoch 5/8\n",
            "8/8 [==============================] - 0s 11ms/step - loss: 0.5402 - accuracy: 0.8033 - val_loss: 0.5337 - val_accuracy: 0.8170\n",
            "Epoch 6/8\n",
            "8/8 [==============================] - 0s 12ms/step - loss: 0.5057 - accuracy: 0.7887 - val_loss: 0.5100 - val_accuracy: 0.8160\n",
            "Epoch 7/8\n",
            "8/8 [==============================] - 0s 13ms/step - loss: 0.4646 - accuracy: 0.8313 - val_loss: 0.4949 - val_accuracy: 0.7830\n",
            "Epoch 8/8\n",
            "8/8 [==============================] - 0s 10ms/step - loss: 0.4373 - accuracy: 0.8355 - val_loss: 0.4672 - val_accuracy: 0.8140\n"
          ]
        },
        {
          "output_type": "execute_result",
          "data": {
            "text/plain": [
              "<keras.callbacks.History at 0x7a0f24e925c0>"
            ]
          },
          "metadata": {},
          "execution_count": 28
        }
      ]
    },
    {
      "cell_type": "markdown",
      "metadata": {
        "id": "c6uVqETe6DGe"
      },
      "source": [
        "## 4) Avaliação de resultados"
      ]
    },
    {
      "cell_type": "markdown",
      "source": [
        "Apesar de requerer redução de dimensionalidade para um treinamento eficiente, o modelo para BOW com tratamentos ou não teve um resultado próximo, porém a versão sem tratamentos foi ligeiramente superior. Superou inclusive o Doc2Vec, quando verificado contra o *dataset* de teste na segunda iteração. Porém, na terceira iteração já apresenta indícios de *overfitting*, ou seja, melhoria do ajuste ao *dataset* de treino mas não ao de teste/validação."
      ],
      "metadata": {
        "id": "tS0r6nIjXYp9"
      }
    },
    {
      "cell_type": "markdown",
      "source": [
        "### 4.1) Preparação do modelo escolhido com toda a base de dados"
      ],
      "metadata": {
        "id": "iHlKLnblujRs"
      }
    },
    {
      "cell_type": "code",
      "source": [
        "# concatenando para TODO o dataset\n",
        "X_full = np.vstack([X_train_bow,X_test_bow])\n",
        "y_full = np.hstack([y_train,y_test])"
      ],
      "metadata": {
        "id": "X5SjlKySz7UY"
      },
      "execution_count": 29,
      "outputs": []
    },
    {
      "cell_type": "code",
      "source": [
        "# normalização e redução de dimensionalidade para uso dataset BOW\n",
        "pca = PCA()\n",
        "X_model = pca.fit_transform(norm.fit_transform(X_full))\n",
        "y_model = y_full"
      ],
      "metadata": {
        "id": "mWHW-unRk2FP"
      },
      "execution_count": 33,
      "outputs": []
    },
    {
      "cell_type": "code",
      "source": [
        "# criação do modelo\n",
        "model = create_model(X_model.shape[1])\n",
        "\n",
        "# treinamento\n",
        "model.fit(X_model, y_model, epochs=2, batch_size=1024)"
      ],
      "metadata": {
        "id": "-vEj1BF5k2FV",
        "colab": {
          "base_uri": "https://localhost:8080/"
        },
        "outputId": "eb53e815-d3a4-4f1d-d557-345a01aa46bc"
      },
      "execution_count": 34,
      "outputs": [
        {
          "output_type": "stream",
          "name": "stdout",
          "text": [
            "Epoch 1/2\n",
            "5/5 [==============================] - 20s 3s/step - loss: 0.6803 - accuracy: 0.5958\n",
            "Epoch 2/2\n",
            "5/5 [==============================] - 14s 3s/step - loss: 0.5101 - accuracy: 0.8712\n"
          ]
        },
        {
          "output_type": "execute_result",
          "data": {
            "text/plain": [
              "<keras.callbacks.History at 0x7a0f24ab2290>"
            ]
          },
          "metadata": {},
          "execution_count": 34
        }
      ]
    },
    {
      "cell_type": "markdown",
      "source": [
        "### 4.2) Simulação de utilização do modelo"
      ],
      "metadata": {
        "id": "u1EPVc0xunHr"
      }
    },
    {
      "cell_type": "code",
      "source": [
        "# dados de entrada não vistos\n",
        "txt1 = \"Terrible, disgusting and nonsense film, the director had no idea of what he was doing\"\n",
        "txt2 = \"I wasted my time seeing this crap, it's an awful movie\"\n",
        "txt3 = \"Delighted with this wonderful and incredible production\"\n",
        "txt4 = \"Unbelievably loving. Couldn't stop till the end\"\n",
        "txt5 = \"I don't know for sure what is my feeling about it\"\n",
        "txts = [txt1,txt2,txt3,txt4,txt5]\n",
        "\n",
        "# Predição de classes dos dados de entrada (0 = avaliação negativa, 1 = avaliação positiva)\n",
        "outputs = []\n",
        "for txt in txts:\n",
        "  txt_vec = np.array(vectorizer.transform([txt]).todense())\n",
        "  txt_vec_tf = pca.transform(norm.transform(txt_vec))\n",
        "  outputs.append(int(np.round(model.predict(txt_vec_tf, verbose=0))))\n",
        "print(outputs)\n"
      ],
      "metadata": {
        "id": "TAGKWX1qkh16",
        "colab": {
          "base_uri": "https://localhost:8080/"
        },
        "outputId": "3006e7be-4f56-4be4-c90c-23a55c470781"
      },
      "execution_count": 35,
      "outputs": [
        {
          "output_type": "stream",
          "name": "stdout",
          "text": [
            "[0, 0, 1, 1, 1]\n"
          ]
        }
      ]
    },
    {
      "cell_type": "markdown",
      "source": [
        "### 4.3) Conclusão"
      ],
      "metadata": {
        "id": "e9gowA39urG7"
      }
    },
    {
      "cell_type": "markdown",
      "source": [
        "Dentre os diferentes modelos e transformações de dados avaliados, observamos que:\n",
        "\n",
        "1) processar os textos limpando dados desnecessários produziu eficiência, mas não melhores resultados para este problema em específico.\n",
        "\n",
        "2) o *bag of words* utilizando CountVectorizer teve melhor resultado ao ser testado do que a técnica Doc2Vec para este problema em específico.\n",
        "\n",
        "3) apesar do melhor resultado, o BOW mostrou maior tendência para *overfitting* de forma que o número de iterações foi limitado para evitá-lo.\n",
        "\n",
        "Decidiu-se por treinar um modelo final BOW por *CountVectorizer* com o *dataset* completo do projeto  (acurácia de 87,55% no treino e 85,50% no teste). Por fim, o modelo foi treinado com todo o conjunto de dados e seu uso simulado, estando pronto para implantação."
      ],
      "metadata": {
        "id": "yITWdP1A4k1_"
      }
    }
  ],
  "metadata": {
    "colab": {
      "provenance": [],
      "toc_visible": true,
      "authorship_tag": "ABX9TyOYrRcryHQqmwxWxa7jpI+8",
      "include_colab_link": true
    },
    "kernelspec": {
      "display_name": "Python 3",
      "name": "python3"
    },
    "language_info": {
      "name": "python"
    }
  },
  "nbformat": 4,
  "nbformat_minor": 0
}